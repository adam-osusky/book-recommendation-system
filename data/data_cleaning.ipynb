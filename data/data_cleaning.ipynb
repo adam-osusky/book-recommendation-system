{
 "cells": [
  {
   "cell_type": "markdown",
   "metadata": {},
   "source": [
    "# Book Recommendation Dataset: EDA & preparation \n",
    "\n",
    "Sources:\n",
    "- dataset paper: [Ziegler, Cai-Nicolas, et al. \"Improving recommendation lists through topic diversification.\"](https://dl.acm.org/doi/pdf/10.1145/1060745.1060754)\n",
    "- [dataset kaggle](https://www.kaggle.com/datasets/arashnic/book-recommendation-dataset/data)"
   ]
  },
  {
   "cell_type": "code",
   "execution_count": null,
   "metadata": {},
   "outputs": [],
   "source": [
    "import os\n",
    "\n",
    "import matplotlib.pyplot as plt\n",
    "import missingno as mn\n",
    "import numpy as np\n",
    "import pandas as pd\n",
    "import seaborn as sns\n",
    "from matplotlib_venn import venn2\n",
    "from pandas import DataFrame"
   ]
  },
  {
   "cell_type": "code",
   "execution_count": null,
   "metadata": {},
   "outputs": [],
   "source": [
    "og_ds_path = \"./og-dataset\"\n",
    "new_ds_path = \"./book-feedback.csv\""
   ]
  },
  {
   "cell_type": "code",
   "execution_count": null,
   "metadata": {},
   "outputs": [],
   "source": [
    "books_df = pd.read_csv(filepath_or_buffer=os.path.join(og_ds_path, \"Books.csv\"))\n",
    "ratings_df = pd.read_csv(filepath_or_buffer=os.path.join(og_ds_path, \"Ratings.csv\"))\n",
    "users_df = pd.read_csv(filepath_or_buffer=os.path.join(og_ds_path, \"Users.csv\"))"
   ]
  },
  {
   "cell_type": "markdown",
   "metadata": {},
   "source": [
    "## Basic info"
   ]
  },
  {
   "cell_type": "code",
   "execution_count": null,
   "metadata": {},
   "outputs": [],
   "source": [
    "books_df.describe()"
   ]
  },
  {
   "cell_type": "code",
   "execution_count": null,
   "metadata": {},
   "outputs": [],
   "source": [
    "books_df.info()"
   ]
  },
  {
   "cell_type": "code",
   "execution_count": null,
   "metadata": {},
   "outputs": [],
   "source": [
    "ratings_df.describe()"
   ]
  },
  {
   "cell_type": "code",
   "execution_count": null,
   "metadata": {},
   "outputs": [],
   "source": [
    "ratings_df.info()"
   ]
  },
  {
   "cell_type": "code",
   "execution_count": null,
   "metadata": {},
   "outputs": [],
   "source": [
    "ratings_df.head()"
   ]
  },
  {
   "cell_type": "code",
   "execution_count": null,
   "metadata": {},
   "outputs": [],
   "source": [
    "users_df.describe()"
   ]
  },
  {
   "cell_type": "code",
   "execution_count": null,
   "metadata": {},
   "outputs": [],
   "source": [
    "users_df.info()"
   ]
  },
  {
   "cell_type": "markdown",
   "metadata": {},
   "source": [
    "## Missing values & errors"
   ]
  },
  {
   "cell_type": "code",
   "execution_count": null,
   "metadata": {},
   "outputs": [],
   "source": [
    "def missing(df: DataFrame):\n",
    "    print(df.isnull().sum())\n",
    "    print(df[df.isnull().any(axis=1)])\n",
    "\n",
    "for df in [books_df, ratings_df, users_df]:\n",
    "    missing(df)\n",
    "    print(\"=\"*40)"
   ]
  },
  {
   "cell_type": "code",
   "execution_count": null,
   "metadata": {},
   "outputs": [],
   "source": [
    "# bacause of time constraints image data will not be used\n",
    "# only few null values, no need for something complex\n",
    "books_df.drop([\"Image-URL-S\", \"Image-URL-M\", \"Image-URL-L\"], axis=1, inplace=True)\n",
    "books_df[\"Book-Author\"].fillna(\"\", inplace=True)\n",
    "books_df[\"Publisher\"].fillna(\"\", inplace=True)\n"
   ]
  },
  {
   "cell_type": "code",
   "execution_count": null,
   "metadata": {},
   "outputs": [],
   "source": [
    "joined_df = pd.merge(books_df, ratings_df, on='ISBN', how='inner')\n",
    "joined_df = pd.merge(joined_df, users_df, on='User-ID', how='inner')\n",
    "\n",
    "joined_df.shape, ratings_df.shape, books_df.shape, users_df.shape"
   ]
  },
  {
   "cell_type": "code",
   "execution_count": null,
   "metadata": {},
   "outputs": [],
   "source": [
    "mn.matrix(users_df)"
   ]
  },
  {
   "cell_type": "code",
   "execution_count": null,
   "metadata": {},
   "outputs": [],
   "source": [
    "error_rows = []\n",
    "\n",
    "for index, value in enumerate(books_df['Year-Of-Publication']):\n",
    "    try:\n",
    "        books_df.at[index, 'Year-Of-Publication'] = int(value)\n",
    "    except (ValueError, TypeError):\n",
    "        error_rows.append(index)\n",
    "wrong = books_df.iloc[error_rows]\n",
    "wrong"
   ]
  },
  {
   "cell_type": "code",
   "execution_count": null,
   "metadata": {},
   "outputs": [],
   "source": [
    "for idx in error_rows:\n",
    "    book_title, author = books_df.iloc[idx][\"Book-Title\"].split(\";\")\n",
    "    publisher = books_df.iloc[idx][\"Year-Of-Publication\"]\n",
    "    year = books_df.iloc[idx][\"Book-Author\"]\n",
    "\n",
    "    books_df.iloc[idx][\"Book-Title\"] = book_title\n",
    "    books_df.iloc[idx][\"Book-Author\"] = author\n",
    "    books_df.iloc[idx][\"Year-Of-Publication\"] = year"
   ]
  },
  {
   "cell_type": "code",
   "execution_count": null,
   "metadata": {},
   "outputs": [],
   "source": [
    "books_df.iloc[error_rows]"
   ]
  },
  {
   "cell_type": "markdown",
   "metadata": {},
   "source": [
    "## Counts and dist"
   ]
  },
  {
   "cell_type": "code",
   "execution_count": null,
   "metadata": {},
   "outputs": [],
   "source": [
    "ratings_df[\"ISBN\"].nunique(), books_df[\"ISBN\"].nunique()"
   ]
  },
  {
   "cell_type": "code",
   "execution_count": null,
   "metadata": {},
   "outputs": [],
   "source": [
    "rated_books = pd.merge(books_df, ratings_df, on=\"ISBN\")\n",
    "rated_books.shape, rated_books[\"ISBN\"].nunique()"
   ]
  },
  {
   "cell_type": "code",
   "execution_count": null,
   "metadata": {},
   "outputs": [],
   "source": [
    "# there are ratings for books which are not in book table\n",
    "ratings_set = set(ratings_df[\"ISBN\"])\n",
    "books_set = set(books_df[\"ISBN\"])\n",
    "\n",
    "venn2(subsets=(len(ratings_set - books_set), len(books_set - ratings_set), len(ratings_set & books_set)),\n",
    "      set_labels=(\"Ratings\", \"Books\"),\n",
    "      set_colors=(\"red\", \"blue\"))\n",
    "\n",
    "plt.show()"
   ]
  },
  {
   "cell_type": "code",
   "execution_count": null,
   "metadata": {},
   "outputs": [],
   "source": [
    "num_isbns = 70405+270151"
   ]
  },
  {
   "cell_type": "code",
   "execution_count": null,
   "metadata": {},
   "outputs": [],
   "source": [
    "# drop books without ratings\n",
    "merged_books_df = books_df.merge(ratings_df, on='ISBN', how='left')\n",
    "\n",
    "books_without_rating = merged_books_df[merged_books_df['Book-Rating'].isna()]\n",
    "\n",
    "books_df = books_df[~books_df['ISBN'].isin(books_without_rating['ISBN'])]"
   ]
  },
  {
   "cell_type": "code",
   "execution_count": null,
   "metadata": {},
   "outputs": [],
   "source": [
    "ratings_set = set(ratings_df[\"User-ID\"])\n",
    "users_set = set(users_df[\"User-ID\"])\n",
    "\n",
    "venn2(subsets=(len(ratings_set - users_set), len(users_set - ratings_set), len(ratings_set & users_set)),\n",
    "      set_labels=(\"Ratings\", \"Users\"),\n",
    "      set_colors=(\"red\", \"blue\"))\n",
    "\n",
    "plt.show()"
   ]
  },
  {
   "cell_type": "code",
   "execution_count": null,
   "metadata": {},
   "outputs": [],
   "source": [
    "# drop users without ratings\n",
    "merged_df = users_df.merge(right=ratings_df, on='User-ID', how='left')\n",
    "\n",
    "users_without_rating = merged_df[merged_df['Book-Rating'].isna()]\n",
    "\n",
    "print(\"Users without a rating:\")\n",
    "print(users_without_rating[['User-ID']].shape)"
   ]
  },
  {
   "cell_type": "code",
   "execution_count": null,
   "metadata": {},
   "outputs": [],
   "source": [
    "users_without_rating.head()"
   ]
  },
  {
   "cell_type": "code",
   "execution_count": null,
   "metadata": {},
   "outputs": [],
   "source": [
    "users_df = users_df[~users_df['User-ID'].isin(users_without_rating['User-ID'])]"
   ]
  },
  {
   "cell_type": "code",
   "execution_count": null,
   "metadata": {},
   "outputs": [],
   "source": [
    "res = ratings_df[ratings_df['User-ID'] == 1]\n",
    "res"
   ]
  },
  {
   "cell_type": "code",
   "execution_count": null,
   "metadata": {},
   "outputs": [],
   "source": [
    "plt.hist(ratings_df['Book-Rating'], bins=10, edgecolor='black', alpha=0.7)\n",
    "\n",
    "plt.title('Distribution of Ratings')\n",
    "plt.xlabel('Rating')\n",
    "plt.ylabel('Frequency')\n",
    "\n",
    "plt.show()"
   ]
  },
  {
   "cell_type": "markdown",
   "metadata": {},
   "source": [
    "- rating 0 means implicit feedback. What does it mean?\n",
    "- excerpt from the original paper\n",
    "  - \"Ratings can either be explicit, i.e., by\n",
    "having the user state his opinion about a given product, or\n",
    "implicit, when the mere act of purchasing or mentioning of\n",
    "an item counts as an expression of appreciation. While implicit ratings are generally more facile to collect, their usage\n",
    "implies adding noise to the collected information \"\n",
    "  - Data Collection\n",
    "    - In a 4-week crawl, we collected data on 278, 858 members\n",
    "of BookCrossing and 1, 157, 112 ratings, both implicit and\n",
    "explicit, referring to 271, 379 distinct ISBNs \n",
    "- ok :)"
   ]
  },
  {
   "cell_type": "code",
   "execution_count": null,
   "metadata": {},
   "outputs": [],
   "source": [
    "books_df.columns, books_df.shape"
   ]
  },
  {
   "cell_type": "code",
   "execution_count": null,
   "metadata": {},
   "outputs": [],
   "source": [
    "books_df[\"Book-Title\"].value_counts()"
   ]
  },
  {
   "cell_type": "code",
   "execution_count": null,
   "metadata": {},
   "outputs": [],
   "source": [
    "books_df[\"Book-Author\"].value_counts()"
   ]
  },
  {
   "cell_type": "code",
   "execution_count": null,
   "metadata": {},
   "outputs": [],
   "source": [
    "books_df[\"Year-Of-Publication\"].value_counts(), books_df[\"Year-Of-Publication\"].astype(int).sort_values().unique()"
   ]
  },
  {
   "cell_type": "code",
   "execution_count": null,
   "metadata": {},
   "outputs": [],
   "source": [
    "users_df.columns, users_df.shape"
   ]
  },
  {
   "cell_type": "code",
   "execution_count": null,
   "metadata": {},
   "outputs": [],
   "source": [
    "# there were some really old people xd\n",
    "users_df[\"Age\"].value_counts(), users_df[\"Age\"].dropna().sort_values().unique()"
   ]
  },
  {
   "cell_type": "code",
   "execution_count": null,
   "metadata": {},
   "outputs": [],
   "source": [
    "ratings_df['User-ID'].value_counts()"
   ]
  },
  {
   "cell_type": "markdown",
   "metadata": {},
   "source": [
    "## Aggregate into one row\n",
    "- in one row information about user and book for simpler processing of models"
   ]
  },
  {
   "cell_type": "code",
   "execution_count": null,
   "metadata": {},
   "outputs": [],
   "source": [
    "ratings_df.shape"
   ]
  },
  {
   "cell_type": "code",
   "execution_count": null,
   "metadata": {},
   "outputs": [],
   "source": [
    "ratings_df[\"ISBN\"].nunique()"
   ]
  },
  {
   "cell_type": "code",
   "execution_count": null,
   "metadata": {},
   "outputs": [],
   "source": [
    "ratings = ratings_df.merge(books_df, how=\"left\", on=\"ISBN\")\n",
    "ratings.shape"
   ]
  },
  {
   "cell_type": "code",
   "execution_count": null,
   "metadata": {},
   "outputs": [],
   "source": [
    "ratings = ratings.merge(users_df, how=\"inner\", on=\"User-ID\")\n",
    "ratings.shape"
   ]
  },
  {
   "cell_type": "code",
   "execution_count": null,
   "metadata": {},
   "outputs": [],
   "source": [
    "ratings[ratings[\"Book-Title\"] == \"Why Didn't They Ask Evans?\"]"
   ]
  },
  {
   "cell_type": "code",
   "execution_count": null,
   "metadata": {},
   "outputs": [],
   "source": [
    "user_id_mapping = {user_id: index for index, user_id in enumerate(ratings['User-ID'].unique())}\n",
    "ratings.loc[:, 'user_id'] = ratings['User-ID'].map(user_id_mapping)\n",
    "\n",
    "book_id_mapping = {book_id: index for index, book_id in enumerate(ratings['ISBN'].unique())}\n",
    "ratings.loc[:, 'book_id'] = ratings['ISBN'].map(book_id_mapping)"
   ]
  },
  {
   "cell_type": "code",
   "execution_count": null,
   "metadata": {},
   "outputs": [],
   "source": [
    "ratings.describe()"
   ]
  },
  {
   "cell_type": "code",
   "execution_count": null,
   "metadata": {},
   "outputs": [],
   "source": [
    "ratings_df[\"ISBN\"].nunique(), ratings_df.shape"
   ]
  },
  {
   "cell_type": "code",
   "execution_count": null,
   "metadata": {},
   "outputs": [],
   "source": [
    "users_df[\"User-ID\"].nunique(), users_df.shape"
   ]
  },
  {
   "cell_type": "code",
   "execution_count": null,
   "metadata": {},
   "outputs": [],
   "source": [
    "ratings[\"book_id\"].nunique(), ratings[\"user_id\"].nunique(), ratings[\"ISBN\"].nunique()"
   ]
  },
  {
   "cell_type": "code",
   "execution_count": null,
   "metadata": {},
   "outputs": [],
   "source": [
    "ratings.shape"
   ]
  },
  {
   "cell_type": "code",
   "execution_count": null,
   "metadata": {},
   "outputs": [],
   "source": [
    "ratings.drop([\"User-ID\"], axis=1, inplace=True)\n",
    "ratings.drop([\"ISBN\"], axis=1, inplace=True)"
   ]
  },
  {
   "cell_type": "code",
   "execution_count": null,
   "metadata": {},
   "outputs": [],
   "source": [
    "ratings"
   ]
  },
  {
   "cell_type": "code",
   "execution_count": null,
   "metadata": {},
   "outputs": [],
   "source": [
    "columns_to_check = ['Book-Title', 'Book-Author', 'Year-Of-Publication', 'Publisher']\n",
    "ratings = ratings.dropna(subset=columns_to_check)\n",
    "ratings.isna().sum()"
   ]
  },
  {
   "cell_type": "code",
   "execution_count": null,
   "metadata": {},
   "outputs": [],
   "source": [
    "import matplotlib.pyplot as plt\n",
    "\n",
    "plt.figure(figsize=(10, 6))\n",
    "plt.hist(ratings['user_id'].value_counts(), bins=50, color='skyblue', edgecolor='black')\n",
    "plt.title('Distribution of Number of Ratings per User')\n",
    "plt.xlabel('Number of Ratings')\n",
    "plt.ylabel('Number of Users')\n",
    "plt.yscale('log')\n",
    "plt.grid(True)\n",
    "plt.show()"
   ]
  },
  {
   "cell_type": "markdown",
   "metadata": {},
   "source": [
    "- drop users with less than 10 ratings"
   ]
  },
  {
   "cell_type": "code",
   "execution_count": null,
   "metadata": {},
   "outputs": [],
   "source": [
    "user_ratings_counts = ratings['user_id'].value_counts()\n",
    "\n",
    "users_with_less_than_10_ratings = user_ratings_counts[user_ratings_counts < 10].index\n",
    "ratings = ratings[~ratings['user_id'].isin(users_with_less_than_10_ratings)]\n",
    "\n",
    "\n",
    "ratings.shape, ratings[\"user_id\"].nunique()"
   ]
  },
  {
   "cell_type": "code",
   "execution_count": null,
   "metadata": {},
   "outputs": [],
   "source": [
    "book_ratings_counts = ratings['book_id'].value_counts()\n",
    "\n",
    "books_with_less_than_10_ratings = book_ratings_counts[book_ratings_counts < 10].index\n",
    "ratings = ratings[~ratings['book_id'].isin(books_with_less_than_10_ratings)]\n",
    "\n",
    "print(ratings.shape)\n",
    "ratings[\"book_id\"].nunique(), ratings[\"user_id\"].nunique()"
   ]
  },
  {
   "cell_type": "code",
   "execution_count": null,
   "metadata": {},
   "outputs": [],
   "source": [
    "user_ratings_counts = ratings['user_id'].value_counts()\n",
    "\n",
    "users_with_less_than_10_ratings = user_ratings_counts[user_ratings_counts <= 3].index\n",
    "ratings = ratings[~ratings['user_id'].isin(users_with_less_than_10_ratings)]\n",
    "\n",
    "\n",
    "ratings.shape, ratings[\"book_id\"].nunique(), ratings[\"user_id\"].nunique()"
   ]
  },
  {
   "cell_type": "code",
   "execution_count": null,
   "metadata": {},
   "outputs": [],
   "source": [
    "book_ratings_counts"
   ]
  },
  {
   "cell_type": "code",
   "execution_count": null,
   "metadata": {},
   "outputs": [],
   "source": [
    "import matplotlib.pyplot as plt\n",
    "\n",
    "plt.figure(figsize=(10, 6))\n",
    "plt.hist(ratings['user_id'].value_counts(), bins=50, color='skyblue', edgecolor='black')\n",
    "plt.title('Distribution of Number of Ratings per User')\n",
    "plt.xlabel('Number of Ratings')\n",
    "plt.ylabel('Number of Users')\n",
    "plt.yscale('log')\n",
    "plt.grid(True)\n",
    "plt.show()"
   ]
  },
  {
   "cell_type": "code",
   "execution_count": null,
   "metadata": {},
   "outputs": [],
   "source": [
    "ratings['user_id'].value_counts()"
   ]
  },
  {
   "cell_type": "code",
   "execution_count": null,
   "metadata": {},
   "outputs": [],
   "source": [
    "plt.hist(ratings[ratings[\"user_id\"] == 5063]['Book-Rating'], bins=10, edgecolor='black', alpha=0.7)"
   ]
  },
  {
   "cell_type": "code",
   "execution_count": null,
   "metadata": {},
   "outputs": [],
   "source": [
    "ratings[ratings[\"user_id\"] == 5063].head(1)"
   ]
  },
  {
   "cell_type": "code",
   "execution_count": null,
   "metadata": {},
   "outputs": [],
   "source": [
    "plt.hist(ratings[ratings[\"user_id\"] == 75665]['Book-Rating'], bins=10, edgecolor='black', alpha=0.7)"
   ]
  },
  {
   "cell_type": "code",
   "execution_count": null,
   "metadata": {},
   "outputs": [],
   "source": [
    "ratings[ratings[\"user_id\"] == 75665].head(1)"
   ]
  },
  {
   "cell_type": "code",
   "execution_count": null,
   "metadata": {},
   "outputs": [],
   "source": [
    "ratings[\"Book-Rating\"].value_counts()"
   ]
  },
  {
   "cell_type": "code",
   "execution_count": null,
   "metadata": {},
   "outputs": [],
   "source": [
    "ratings[\"Age\"] = ratings[\"Age\"].fillna(-1).astype(int)"
   ]
  },
  {
   "cell_type": "code",
   "execution_count": null,
   "metadata": {},
   "outputs": [],
   "source": [
    "ratings[\"Age\"].value_counts().sort_index()"
   ]
  },
  {
   "cell_type": "code",
   "execution_count": null,
   "metadata": {},
   "outputs": [],
   "source": [
    "plt.hist(ratings[ratings[\"Age\"] != -1][\"Age\"], bins=\"auto\", edgecolor='black', alpha=0.7)\n",
    "plt.show()"
   ]
  },
  {
   "cell_type": "code",
   "execution_count": null,
   "metadata": {},
   "outputs": [],
   "source": [
    "ratings[ratings[\"Age\"] > 123].shape[0]"
   ]
  },
  {
   "cell_type": "code",
   "execution_count": null,
   "metadata": {},
   "outputs": [],
   "source": [
    "ratings.isna().sum()"
   ]
  },
  {
   "cell_type": "code",
   "execution_count": null,
   "metadata": {},
   "outputs": [],
   "source": [
    "# for n in [\"Book-Title\", \"Book-Author\", \"Publisher\"]:\n",
    "#     ratings[n] = ratings[n].fillna(\"\")"
   ]
  },
  {
   "cell_type": "code",
   "execution_count": null,
   "metadata": {},
   "outputs": [],
   "source": [
    "ratings[\"Year-Of-Publication\"] = ratings[\"Year-Of-Publication\"].fillna(-1)"
   ]
  },
  {
   "cell_type": "code",
   "execution_count": null,
   "metadata": {},
   "outputs": [],
   "source": [
    "ratings.isna().sum()"
   ]
  },
  {
   "cell_type": "code",
   "execution_count": null,
   "metadata": {},
   "outputs": [],
   "source": [
    "user_id_mapping = {user_id: index for index, user_id in enumerate(ratings['user_id'].unique())}\n",
    "ratings.loc[:, 'user_id'] = ratings['user_id'].map(user_id_mapping)\n",
    "\n",
    "book_id_mapping = {book_id: index for index, book_id in enumerate(ratings['book_id'].unique())}\n",
    "ratings.loc[:, 'book_id'] = ratings['book_id'].map(book_id_mapping)"
   ]
  },
  {
   "cell_type": "markdown",
   "metadata": {},
   "source": [
    "## Save"
   ]
  },
  {
   "cell_type": "code",
   "execution_count": null,
   "metadata": {},
   "outputs": [],
   "source": [
    "ratings"
   ]
  },
  {
   "cell_type": "code",
   "execution_count": null,
   "metadata": {},
   "outputs": [],
   "source": [
    "ratings.columns"
   ]
  },
  {
   "cell_type": "code",
   "execution_count": null,
   "metadata": {},
   "outputs": [],
   "source": [
    "duplicate_pairs = ratings.duplicated(subset=['book_id', 'user_id'], keep=False)\n",
    "# duplicate_pairs = ratings.duplicated(subset=['User-ID', 'ISBN'], keep=False)\n",
    "\n",
    "print(\"Rows with duplicate book_id and user_id pairs:\")\n",
    "print(ratings[duplicate_pairs])"
   ]
  },
  {
   "cell_type": "code",
   "execution_count": null,
   "metadata": {},
   "outputs": [],
   "source": [
    "ratings.to_csv(path_or_buf=new_ds_path)"
   ]
  },
  {
   "cell_type": "markdown",
   "metadata": {},
   "source": [
    "## Notes on final ds\n",
    "- missing Age -> -1\n",
    "- missing Year of publication -> -1\n",
    "- not all ratings have Book data"
   ]
  },
  {
   "cell_type": "markdown",
   "metadata": {},
   "source": []
  }
 ],
 "metadata": {
  "kernelspec": {
   "display_name": "env",
   "language": "python",
   "name": "python3"
  },
  "language_info": {
   "codemirror_mode": {
    "name": "ipython",
    "version": 3
   },
   "file_extension": ".py",
   "mimetype": "text/x-python",
   "name": "python",
   "nbconvert_exporter": "python",
   "pygments_lexer": "ipython3",
   "version": "3.11.5"
  }
 },
 "nbformat": 4,
 "nbformat_minor": 2
}
