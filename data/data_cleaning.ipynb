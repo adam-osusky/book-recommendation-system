{
 "cells": [
  {
   "cell_type": "markdown",
   "metadata": {},
   "source": [
    "# Book Recommendation Dataset: EDA & preparation \n",
    "\n",
    "Sources:\n",
    "- dataset paper: [Ziegler, Cai-Nicolas, et al. \"Improving recommendation lists through topic diversification.\"](https://dl.acm.org/doi/pdf/10.1145/1060745.1060754)\n",
    "- [dataset kaggle](https://www.kaggle.com/datasets/arashnic/book-recommendation-dataset/data)"
   ]
  },
  {
   "cell_type": "code",
   "execution_count": 1,
   "metadata": {},
   "outputs": [],
   "source": [
    "import os\n",
    "\n",
    "import matplotlib.pyplot as plt\n",
    "import missingno as mn\n",
    "import numpy as np\n",
    "import pandas as pd\n",
    "import seaborn as sns\n",
    "from matplotlib_venn import venn2\n",
    "from pandas import DataFrame"
   ]
  },
  {
   "cell_type": "code",
   "execution_count": 2,
   "metadata": {},
   "outputs": [],
   "source": [
    "og_ds_path = \"./og-dataset\"\n",
    "new_ds_path = \"./book-feedback.csv\""
   ]
  },
  {
   "cell_type": "code",
   "execution_count": 3,
   "metadata": {},
   "outputs": [
    {
     "name": "stderr",
     "output_type": "stream",
     "text": [
      "/tmp/ipykernel_17197/2078345232.py:1: DtypeWarning: Columns (3) have mixed types. Specify dtype option on import or set low_memory=False.\n",
      "  books_df = pd.read_csv(filepath_or_buffer=os.path.join(og_ds_path, \"Books.csv\"))\n"
     ]
    }
   ],
   "source": [
    "books_df = pd.read_csv(filepath_or_buffer=os.path.join(og_ds_path, \"Books.csv\"))\n",
    "ratings_df = pd.read_csv(filepath_or_buffer=os.path.join(og_ds_path, \"Ratings.csv\"))\n",
    "users_df = pd.read_csv(filepath_or_buffer=os.path.join(og_ds_path, \"Users.csv\"))"
   ]
  },
  {
   "cell_type": "markdown",
   "metadata": {},
   "source": [
    "## Basic info"
   ]
  },
  {
   "cell_type": "code",
   "execution_count": 4,
   "metadata": {},
   "outputs": [
    {
     "data": {
      "text/html": [
       "<div>\n",
       "<style scoped>\n",
       "    .dataframe tbody tr th:only-of-type {\n",
       "        vertical-align: middle;\n",
       "    }\n",
       "\n",
       "    .dataframe tbody tr th {\n",
       "        vertical-align: top;\n",
       "    }\n",
       "\n",
       "    .dataframe thead th {\n",
       "        text-align: right;\n",
       "    }\n",
       "</style>\n",
       "<table border=\"1\" class=\"dataframe\">\n",
       "  <thead>\n",
       "    <tr style=\"text-align: right;\">\n",
       "      <th></th>\n",
       "      <th>ISBN</th>\n",
       "      <th>Book-Title</th>\n",
       "      <th>Book-Author</th>\n",
       "      <th>Year-Of-Publication</th>\n",
       "      <th>Publisher</th>\n",
       "      <th>Image-URL-S</th>\n",
       "      <th>Image-URL-M</th>\n",
       "      <th>Image-URL-L</th>\n",
       "    </tr>\n",
       "  </thead>\n",
       "  <tbody>\n",
       "    <tr>\n",
       "      <th>count</th>\n",
       "      <td>271360</td>\n",
       "      <td>271360</td>\n",
       "      <td>271358</td>\n",
       "      <td>271360</td>\n",
       "      <td>271358</td>\n",
       "      <td>271360</td>\n",
       "      <td>271360</td>\n",
       "      <td>271357</td>\n",
       "    </tr>\n",
       "    <tr>\n",
       "      <th>unique</th>\n",
       "      <td>271360</td>\n",
       "      <td>242135</td>\n",
       "      <td>102022</td>\n",
       "      <td>202</td>\n",
       "      <td>16807</td>\n",
       "      <td>271044</td>\n",
       "      <td>271044</td>\n",
       "      <td>271041</td>\n",
       "    </tr>\n",
       "    <tr>\n",
       "      <th>top</th>\n",
       "      <td>0195153448</td>\n",
       "      <td>Selected Poems</td>\n",
       "      <td>Agatha Christie</td>\n",
       "      <td>2002</td>\n",
       "      <td>Harlequin</td>\n",
       "      <td>http://images.amazon.com/images/P/185326119X.0...</td>\n",
       "      <td>http://images.amazon.com/images/P/185326119X.0...</td>\n",
       "      <td>http://images.amazon.com/images/P/225307649X.0...</td>\n",
       "    </tr>\n",
       "    <tr>\n",
       "      <th>freq</th>\n",
       "      <td>1</td>\n",
       "      <td>27</td>\n",
       "      <td>632</td>\n",
       "      <td>13903</td>\n",
       "      <td>7535</td>\n",
       "      <td>2</td>\n",
       "      <td>2</td>\n",
       "      <td>2</td>\n",
       "    </tr>\n",
       "  </tbody>\n",
       "</table>\n",
       "</div>"
      ],
      "text/plain": [
       "              ISBN      Book-Title      Book-Author  Year-Of-Publication  \\\n",
       "count       271360          271360           271358               271360   \n",
       "unique      271360          242135           102022                  202   \n",
       "top     0195153448  Selected Poems  Agatha Christie                 2002   \n",
       "freq             1              27              632                13903   \n",
       "\n",
       "        Publisher                                        Image-URL-S  \\\n",
       "count      271358                                             271360   \n",
       "unique      16807                                             271044   \n",
       "top     Harlequin  http://images.amazon.com/images/P/185326119X.0...   \n",
       "freq         7535                                                  2   \n",
       "\n",
       "                                              Image-URL-M  \\\n",
       "count                                              271360   \n",
       "unique                                             271044   \n",
       "top     http://images.amazon.com/images/P/185326119X.0...   \n",
       "freq                                                    2   \n",
       "\n",
       "                                              Image-URL-L  \n",
       "count                                              271357  \n",
       "unique                                             271041  \n",
       "top     http://images.amazon.com/images/P/225307649X.0...  \n",
       "freq                                                    2  "
      ]
     },
     "execution_count": 4,
     "metadata": {},
     "output_type": "execute_result"
    }
   ],
   "source": [
    "books_df.describe()"
   ]
  },
  {
   "cell_type": "code",
   "execution_count": 5,
   "metadata": {},
   "outputs": [
    {
     "name": "stdout",
     "output_type": "stream",
     "text": [
      "<class 'pandas.core.frame.DataFrame'>\n",
      "RangeIndex: 271360 entries, 0 to 271359\n",
      "Data columns (total 8 columns):\n",
      " #   Column               Non-Null Count   Dtype \n",
      "---  ------               --------------   ----- \n",
      " 0   ISBN                 271360 non-null  object\n",
      " 1   Book-Title           271360 non-null  object\n",
      " 2   Book-Author          271358 non-null  object\n",
      " 3   Year-Of-Publication  271360 non-null  object\n",
      " 4   Publisher            271358 non-null  object\n",
      " 5   Image-URL-S          271360 non-null  object\n",
      " 6   Image-URL-M          271360 non-null  object\n",
      " 7   Image-URL-L          271357 non-null  object\n",
      "dtypes: object(8)\n",
      "memory usage: 16.6+ MB\n"
     ]
    }
   ],
   "source": [
    "books_df.info()"
   ]
  },
  {
   "cell_type": "code",
   "execution_count": 6,
   "metadata": {},
   "outputs": [
    {
     "data": {
      "text/html": [
       "<div>\n",
       "<style scoped>\n",
       "    .dataframe tbody tr th:only-of-type {\n",
       "        vertical-align: middle;\n",
       "    }\n",
       "\n",
       "    .dataframe tbody tr th {\n",
       "        vertical-align: top;\n",
       "    }\n",
       "\n",
       "    .dataframe thead th {\n",
       "        text-align: right;\n",
       "    }\n",
       "</style>\n",
       "<table border=\"1\" class=\"dataframe\">\n",
       "  <thead>\n",
       "    <tr style=\"text-align: right;\">\n",
       "      <th></th>\n",
       "      <th>User-ID</th>\n",
       "      <th>Book-Rating</th>\n",
       "    </tr>\n",
       "  </thead>\n",
       "  <tbody>\n",
       "    <tr>\n",
       "      <th>count</th>\n",
       "      <td>1.149780e+06</td>\n",
       "      <td>1.149780e+06</td>\n",
       "    </tr>\n",
       "    <tr>\n",
       "      <th>mean</th>\n",
       "      <td>1.403864e+05</td>\n",
       "      <td>2.866950e+00</td>\n",
       "    </tr>\n",
       "    <tr>\n",
       "      <th>std</th>\n",
       "      <td>8.056228e+04</td>\n",
       "      <td>3.854184e+00</td>\n",
       "    </tr>\n",
       "    <tr>\n",
       "      <th>min</th>\n",
       "      <td>2.000000e+00</td>\n",
       "      <td>0.000000e+00</td>\n",
       "    </tr>\n",
       "    <tr>\n",
       "      <th>25%</th>\n",
       "      <td>7.034500e+04</td>\n",
       "      <td>0.000000e+00</td>\n",
       "    </tr>\n",
       "    <tr>\n",
       "      <th>50%</th>\n",
       "      <td>1.410100e+05</td>\n",
       "      <td>0.000000e+00</td>\n",
       "    </tr>\n",
       "    <tr>\n",
       "      <th>75%</th>\n",
       "      <td>2.110280e+05</td>\n",
       "      <td>7.000000e+00</td>\n",
       "    </tr>\n",
       "    <tr>\n",
       "      <th>max</th>\n",
       "      <td>2.788540e+05</td>\n",
       "      <td>1.000000e+01</td>\n",
       "    </tr>\n",
       "  </tbody>\n",
       "</table>\n",
       "</div>"
      ],
      "text/plain": [
       "            User-ID   Book-Rating\n",
       "count  1.149780e+06  1.149780e+06\n",
       "mean   1.403864e+05  2.866950e+00\n",
       "std    8.056228e+04  3.854184e+00\n",
       "min    2.000000e+00  0.000000e+00\n",
       "25%    7.034500e+04  0.000000e+00\n",
       "50%    1.410100e+05  0.000000e+00\n",
       "75%    2.110280e+05  7.000000e+00\n",
       "max    2.788540e+05  1.000000e+01"
      ]
     },
     "execution_count": 6,
     "metadata": {},
     "output_type": "execute_result"
    }
   ],
   "source": [
    "ratings_df.describe()"
   ]
  },
  {
   "cell_type": "code",
   "execution_count": 7,
   "metadata": {},
   "outputs": [
    {
     "name": "stdout",
     "output_type": "stream",
     "text": [
      "<class 'pandas.core.frame.DataFrame'>\n",
      "RangeIndex: 1149780 entries, 0 to 1149779\n",
      "Data columns (total 3 columns):\n",
      " #   Column       Non-Null Count    Dtype \n",
      "---  ------       --------------    ----- \n",
      " 0   User-ID      1149780 non-null  int64 \n",
      " 1   ISBN         1149780 non-null  object\n",
      " 2   Book-Rating  1149780 non-null  int64 \n",
      "dtypes: int64(2), object(1)\n",
      "memory usage: 26.3+ MB\n"
     ]
    }
   ],
   "source": [
    "ratings_df.info()"
   ]
  },
  {
   "cell_type": "code",
   "execution_count": 8,
   "metadata": {},
   "outputs": [
    {
     "data": {
      "text/html": [
       "<div>\n",
       "<style scoped>\n",
       "    .dataframe tbody tr th:only-of-type {\n",
       "        vertical-align: middle;\n",
       "    }\n",
       "\n",
       "    .dataframe tbody tr th {\n",
       "        vertical-align: top;\n",
       "    }\n",
       "\n",
       "    .dataframe thead th {\n",
       "        text-align: right;\n",
       "    }\n",
       "</style>\n",
       "<table border=\"1\" class=\"dataframe\">\n",
       "  <thead>\n",
       "    <tr style=\"text-align: right;\">\n",
       "      <th></th>\n",
       "      <th>User-ID</th>\n",
       "      <th>ISBN</th>\n",
       "      <th>Book-Rating</th>\n",
       "    </tr>\n",
       "  </thead>\n",
       "  <tbody>\n",
       "    <tr>\n",
       "      <th>0</th>\n",
       "      <td>276725</td>\n",
       "      <td>034545104X</td>\n",
       "      <td>0</td>\n",
       "    </tr>\n",
       "    <tr>\n",
       "      <th>1</th>\n",
       "      <td>276726</td>\n",
       "      <td>0155061224</td>\n",
       "      <td>5</td>\n",
       "    </tr>\n",
       "    <tr>\n",
       "      <th>2</th>\n",
       "      <td>276727</td>\n",
       "      <td>0446520802</td>\n",
       "      <td>0</td>\n",
       "    </tr>\n",
       "    <tr>\n",
       "      <th>3</th>\n",
       "      <td>276729</td>\n",
       "      <td>052165615X</td>\n",
       "      <td>3</td>\n",
       "    </tr>\n",
       "    <tr>\n",
       "      <th>4</th>\n",
       "      <td>276729</td>\n",
       "      <td>0521795028</td>\n",
       "      <td>6</td>\n",
       "    </tr>\n",
       "  </tbody>\n",
       "</table>\n",
       "</div>"
      ],
      "text/plain": [
       "   User-ID        ISBN  Book-Rating\n",
       "0   276725  034545104X            0\n",
       "1   276726  0155061224            5\n",
       "2   276727  0446520802            0\n",
       "3   276729  052165615X            3\n",
       "4   276729  0521795028            6"
      ]
     },
     "execution_count": 8,
     "metadata": {},
     "output_type": "execute_result"
    }
   ],
   "source": [
    "ratings_df.head()"
   ]
  },
  {
   "cell_type": "code",
   "execution_count": 9,
   "metadata": {},
   "outputs": [
    {
     "data": {
      "text/html": [
       "<div>\n",
       "<style scoped>\n",
       "    .dataframe tbody tr th:only-of-type {\n",
       "        vertical-align: middle;\n",
       "    }\n",
       "\n",
       "    .dataframe tbody tr th {\n",
       "        vertical-align: top;\n",
       "    }\n",
       "\n",
       "    .dataframe thead th {\n",
       "        text-align: right;\n",
       "    }\n",
       "</style>\n",
       "<table border=\"1\" class=\"dataframe\">\n",
       "  <thead>\n",
       "    <tr style=\"text-align: right;\">\n",
       "      <th></th>\n",
       "      <th>User-ID</th>\n",
       "      <th>Age</th>\n",
       "    </tr>\n",
       "  </thead>\n",
       "  <tbody>\n",
       "    <tr>\n",
       "      <th>count</th>\n",
       "      <td>278858.00000</td>\n",
       "      <td>168096.000000</td>\n",
       "    </tr>\n",
       "    <tr>\n",
       "      <th>mean</th>\n",
       "      <td>139429.50000</td>\n",
       "      <td>34.751434</td>\n",
       "    </tr>\n",
       "    <tr>\n",
       "      <th>std</th>\n",
       "      <td>80499.51502</td>\n",
       "      <td>14.428097</td>\n",
       "    </tr>\n",
       "    <tr>\n",
       "      <th>min</th>\n",
       "      <td>1.00000</td>\n",
       "      <td>0.000000</td>\n",
       "    </tr>\n",
       "    <tr>\n",
       "      <th>25%</th>\n",
       "      <td>69715.25000</td>\n",
       "      <td>24.000000</td>\n",
       "    </tr>\n",
       "    <tr>\n",
       "      <th>50%</th>\n",
       "      <td>139429.50000</td>\n",
       "      <td>32.000000</td>\n",
       "    </tr>\n",
       "    <tr>\n",
       "      <th>75%</th>\n",
       "      <td>209143.75000</td>\n",
       "      <td>44.000000</td>\n",
       "    </tr>\n",
       "    <tr>\n",
       "      <th>max</th>\n",
       "      <td>278858.00000</td>\n",
       "      <td>244.000000</td>\n",
       "    </tr>\n",
       "  </tbody>\n",
       "</table>\n",
       "</div>"
      ],
      "text/plain": [
       "            User-ID            Age\n",
       "count  278858.00000  168096.000000\n",
       "mean   139429.50000      34.751434\n",
       "std     80499.51502      14.428097\n",
       "min         1.00000       0.000000\n",
       "25%     69715.25000      24.000000\n",
       "50%    139429.50000      32.000000\n",
       "75%    209143.75000      44.000000\n",
       "max    278858.00000     244.000000"
      ]
     },
     "execution_count": 9,
     "metadata": {},
     "output_type": "execute_result"
    }
   ],
   "source": [
    "users_df.describe()"
   ]
  },
  {
   "cell_type": "code",
   "execution_count": 10,
   "metadata": {},
   "outputs": [
    {
     "name": "stdout",
     "output_type": "stream",
     "text": [
      "<class 'pandas.core.frame.DataFrame'>\n",
      "RangeIndex: 278858 entries, 0 to 278857\n",
      "Data columns (total 3 columns):\n",
      " #   Column    Non-Null Count   Dtype  \n",
      "---  ------    --------------   -----  \n",
      " 0   User-ID   278858 non-null  int64  \n",
      " 1   Location  278858 non-null  object \n",
      " 2   Age       168096 non-null  float64\n",
      "dtypes: float64(1), int64(1), object(1)\n",
      "memory usage: 6.4+ MB\n"
     ]
    }
   ],
   "source": [
    "users_df.info()"
   ]
  },
  {
   "cell_type": "markdown",
   "metadata": {},
   "source": [
    "## Missing values & errors"
   ]
  },
  {
   "cell_type": "code",
   "execution_count": 11,
   "metadata": {},
   "outputs": [
    {
     "name": "stdout",
     "output_type": "stream",
     "text": [
      "ISBN                   0\n",
      "Book-Title             0\n",
      "Book-Author            2\n",
      "Year-Of-Publication    0\n",
      "Publisher              2\n",
      "Image-URL-S            0\n",
      "Image-URL-M            0\n",
      "Image-URL-L            3\n",
      "dtype: int64\n",
      "              ISBN                                         Book-Title  \\\n",
      "118033  0751352497                           A+ Quiz Masters:01 Earth   \n",
      "128890  193169656X                                        Tyrant Moon   \n",
      "129037  1931696993                                    Finders Keepers   \n",
      "187689  9627982032  The Credit Suisse Guide to Managing Your Perso...   \n",
      "209538  078946697X  DK Readers: Creating the X-Men, How It All Beg...   \n",
      "220731  2070426769  Peuple du ciel, suivi de 'Les Bergers\\\";Jean-M...   \n",
      "221678  0789466953  DK Readers: Creating the X-Men, How Comic Book...   \n",
      "\n",
      "            Book-Author Year-Of-Publication  \\\n",
      "118033              NaN                1999   \n",
      "128890  Elaine Corvidae                2002   \n",
      "129037  Linnea Sinclair                2001   \n",
      "187689              NaN                1995   \n",
      "209538             2000   DK Publishing Inc   \n",
      "220731             2003           Gallimard   \n",
      "221678             2000   DK Publishing Inc   \n",
      "\n",
      "                                                Publisher  \\\n",
      "118033                                 Dorling Kindersley   \n",
      "128890                                                NaN   \n",
      "129037                                                NaN   \n",
      "187689                     Edinburgh Financial Publishing   \n",
      "209538  http://images.amazon.com/images/P/078946697X.0...   \n",
      "220731  http://images.amazon.com/images/P/2070426769.0...   \n",
      "221678  http://images.amazon.com/images/P/0789466953.0...   \n",
      "\n",
      "                                              Image-URL-S  \\\n",
      "118033  http://images.amazon.com/images/P/0751352497.0...   \n",
      "128890  http://images.amazon.com/images/P/193169656X.0...   \n",
      "129037  http://images.amazon.com/images/P/1931696993.0...   \n",
      "187689  http://images.amazon.com/images/P/9627982032.0...   \n",
      "209538  http://images.amazon.com/images/P/078946697X.0...   \n",
      "220731  http://images.amazon.com/images/P/2070426769.0...   \n",
      "221678  http://images.amazon.com/images/P/0789466953.0...   \n",
      "\n",
      "                                              Image-URL-M  \\\n",
      "118033  http://images.amazon.com/images/P/0751352497.0...   \n",
      "128890  http://images.amazon.com/images/P/193169656X.0...   \n",
      "129037  http://images.amazon.com/images/P/1931696993.0...   \n",
      "187689  http://images.amazon.com/images/P/9627982032.0...   \n",
      "209538  http://images.amazon.com/images/P/078946697X.0...   \n",
      "220731  http://images.amazon.com/images/P/2070426769.0...   \n",
      "221678  http://images.amazon.com/images/P/0789466953.0...   \n",
      "\n",
      "                                              Image-URL-L  \n",
      "118033  http://images.amazon.com/images/P/0751352497.0...  \n",
      "128890  http://images.amazon.com/images/P/193169656X.0...  \n",
      "129037  http://images.amazon.com/images/P/1931696993.0...  \n",
      "187689  http://images.amazon.com/images/P/9627982032.0...  \n",
      "209538                                                NaN  \n",
      "220731                                                NaN  \n",
      "221678                                                NaN  \n",
      "========================================\n",
      "User-ID        0\n",
      "ISBN           0\n",
      "Book-Rating    0\n",
      "dtype: int64\n",
      "Empty DataFrame\n",
      "Columns: [User-ID, ISBN, Book-Rating]\n",
      "Index: []\n",
      "========================================\n",
      "User-ID          0\n",
      "Location         0\n",
      "Age         110762\n",
      "dtype: int64\n",
      "        User-ID                            Location  Age\n",
      "0             1                  nyc, new york, usa  NaN\n",
      "2             3     moscow, yukon territory, russia  NaN\n",
      "4             5  farnborough, hants, united kingdom  NaN\n",
      "6             7                 washington, dc, usa  NaN\n",
      "7             8            timmins, ontario, canada  NaN\n",
      "...         ...                                 ...  ...\n",
      "278849   278850          sergnano, lombardia, italy  NaN\n",
      "278853   278854               portland, oregon, usa  NaN\n",
      "278855   278856           brampton, ontario, canada  NaN\n",
      "278856   278857           knoxville, tennessee, usa  NaN\n",
      "278857   278858                dublin, n/a, ireland  NaN\n",
      "\n",
      "[110762 rows x 3 columns]\n",
      "========================================\n"
     ]
    }
   ],
   "source": [
    "def missing(df: DataFrame):\n",
    "    print(df.isnull().sum())\n",
    "    print(df[df.isnull().any(axis=1)])\n",
    "\n",
    "for df in [books_df, ratings_df, users_df]:\n",
    "    missing(df)\n",
    "    print(\"=\"*40)"
   ]
  },
  {
   "cell_type": "code",
   "execution_count": 12,
   "metadata": {},
   "outputs": [],
   "source": [
    "# bacause of time constraints image data will not be used\n",
    "# only few null values, no need for something complex\n",
    "books_df.drop([\"Image-URL-S\", \"Image-URL-M\", \"Image-URL-L\"], axis=1, inplace=True)\n",
    "books_df[\"Book-Author\"].fillna(\"\", inplace=True)\n",
    "books_df[\"Publisher\"].fillna(\"\", inplace=True)\n"
   ]
  },
  {
   "cell_type": "code",
   "execution_count": 13,
   "metadata": {},
   "outputs": [
    {
     "data": {
      "text/plain": [
       "((1031136, 9), (1149780, 3), (271360, 5), (278858, 3))"
      ]
     },
     "execution_count": 13,
     "metadata": {},
     "output_type": "execute_result"
    }
   ],
   "source": [
    "joined_df = pd.merge(books_df, ratings_df, on='ISBN', how='inner')\n",
    "joined_df = pd.merge(joined_df, users_df, on='User-ID', how='inner')\n",
    "\n",
    "joined_df.shape, ratings_df.shape, books_df.shape, users_df.shape"
   ]
  },
  {
   "cell_type": "code",
   "execution_count": 14,
   "metadata": {},
   "outputs": [
    {
     "data": {
      "text/plain": [
       "<Axes: >"
      ]
     },
     "execution_count": 14,
     "metadata": {},
     "output_type": "execute_result"
    },
    {
     "data": {
      "image/png": "[encoded data removed]",
      "text/plain": [
       "<Figure size 2500x1000 with 2 Axes>"
      ]
     },
     "metadata": {},
     "output_type": "display_data"
    }
   ],
   "source": [
    "mn.matrix(users_df)"
   ]
  },
  {
   "cell_type": "code",
   "execution_count": 15,
   "metadata": {},
   "outputs": [
    {
     "data": {
      "text/html": [
       "<div>\n",
       "<style scoped>\n",
       "    .dataframe tbody tr th:only-of-type {\n",
       "        vertical-align: middle;\n",
       "    }\n",
       "\n",
       "    .dataframe tbody tr th {\n",
       "        vertical-align: top;\n",
       "    }\n",
       "\n",
       "    .dataframe thead th {\n",
       "        text-align: right;\n",
       "    }\n",
       "</style>\n",
       "<table border=\"1\" class=\"dataframe\">\n",
       "  <thead>\n",
       "    <tr style=\"text-align: right;\">\n",
       "      <th></th>\n",
       "      <th>ISBN</th>\n",
       "      <th>Book-Title</th>\n",
       "      <th>Book-Author</th>\n",
       "      <th>Year-Of-Publication</th>\n",
       "      <th>Publisher</th>\n",
       "    </tr>\n",
       "  </thead>\n",
       "  <tbody>\n",
       "    <tr>\n",
       "      <th>209538</th>\n",
       "      <td>078946697X</td>\n",
       "      <td>DK Readers: Creating the X-Men, How It All Beg...</td>\n",
       "      <td>2000</td>\n",
       "      <td>DK Publishing Inc</td>\n",
       "      <td>http://images.amazon.com/images/P/078946697X.0...</td>\n",
       "    </tr>\n",
       "    <tr>\n",
       "      <th>220731</th>\n",
       "      <td>2070426769</td>\n",
       "      <td>Peuple du ciel, suivi de 'Les Bergers\\\";Jean-M...</td>\n",
       "      <td>2003</td>\n",
       "      <td>Gallimard</td>\n",
       "      <td>http://images.amazon.com/images/P/2070426769.0...</td>\n",
       "    </tr>\n",
       "    <tr>\n",
       "      <th>221678</th>\n",
       "      <td>0789466953</td>\n",
       "      <td>DK Readers: Creating the X-Men, How Comic Book...</td>\n",
       "      <td>2000</td>\n",
       "      <td>DK Publishing Inc</td>\n",
       "      <td>http://images.amazon.com/images/P/0789466953.0...</td>\n",
       "    </tr>\n",
       "  </tbody>\n",
       "</table>\n",
       "</div>"
      ],
      "text/plain": [
       "              ISBN                                         Book-Title  \\\n",
       "209538  078946697X  DK Readers: Creating the X-Men, How It All Beg...   \n",
       "220731  2070426769  Peuple du ciel, suivi de 'Les Bergers\\\";Jean-M...   \n",
       "221678  0789466953  DK Readers: Creating the X-Men, How Comic Book...   \n",
       "\n",
       "       Book-Author Year-Of-Publication  \\\n",
       "209538        2000   DK Publishing Inc   \n",
       "220731        2003           Gallimard   \n",
       "221678        2000   DK Publishing Inc   \n",
       "\n",
       "                                                Publisher  \n",
       "209538  http://images.amazon.com/images/P/078946697X.0...  \n",
       "220731  http://images.amazon.com/images/P/2070426769.0...  \n",
       "221678  http://images.amazon.com/images/P/0789466953.0...  "
      ]
     },
     "execution_count": 15,
     "metadata": {},
     "output_type": "execute_result"
    }
   ],
   "source": [
    "error_rows = []\n",
    "\n",
    "for index, value in enumerate(books_df['Year-Of-Publication']):\n",
    "    try:\n",
    "        books_df.at[index, 'Year-Of-Publication'] = int(value)\n",
    "    except (ValueError, TypeError):\n",
    "        error_rows.append(index)\n",
    "wrong = books_df.iloc[error_rows]\n",
    "wrong"
   ]
  },
  {
   "cell_type": "code",
   "execution_count": 16,
   "metadata": {},
   "outputs": [],
   "source": [
    "for idx in error_rows:\n",
    "    book_title, author = books_df.iloc[idx][\"Book-Title\"].split(\";\")\n",
    "    publisher = books_df.iloc[idx][\"Year-Of-Publication\"]\n",
    "    year = books_df.iloc[idx][\"Book-Author\"]\n",
    "\n",
    "    books_df.iloc[idx][\"Book-Title\"] = book_title\n",
    "    books_df.iloc[idx][\"Book-Author\"] = author\n",
    "    books_df.iloc[idx][\"Year-Of-Publication\"] = year"
   ]
  },
  {
   "cell_type": "code",
   "execution_count": 17,
   "metadata": {},
   "outputs": [
    {
     "data": {
      "text/html": [
       "<div>\n",
       "<style scoped>\n",
       "    .dataframe tbody tr th:only-of-type {\n",
       "        vertical-align: middle;\n",
       "    }\n",
       "\n",
       "    .dataframe tbody tr th {\n",
       "        vertical-align: top;\n",
       "    }\n",
       "\n",
       "    .dataframe thead th {\n",
       "        text-align: right;\n",
       "    }\n",
       "</style>\n",
       "<table border=\"1\" class=\"dataframe\">\n",
       "  <thead>\n",
       "    <tr style=\"text-align: right;\">\n",
       "      <th></th>\n",
       "      <th>ISBN</th>\n",
       "      <th>Book-Title</th>\n",
       "      <th>Book-Author</th>\n",
       "      <th>Year-Of-Publication</th>\n",
       "      <th>Publisher</th>\n",
       "    </tr>\n",
       "  </thead>\n",
       "  <tbody>\n",
       "    <tr>\n",
       "      <th>209538</th>\n",
       "      <td>078946697X</td>\n",
       "      <td>DK Readers: Creating the X-Men, How It All Beg...</td>\n",
       "      <td>Michael Teitelbaum\"</td>\n",
       "      <td>2000</td>\n",
       "      <td>http://images.amazon.com/images/P/078946697X.0...</td>\n",
       "    </tr>\n",
       "    <tr>\n",
       "      <th>220731</th>\n",
       "      <td>2070426769</td>\n",
       "      <td>Peuple du ciel, suivi de 'Les Bergers\\\"</td>\n",
       "      <td>Jean-Marie Gustave Le ClÃ?Â©zio\"</td>\n",
       "      <td>2003</td>\n",
       "      <td>http://images.amazon.com/images/P/2070426769.0...</td>\n",
       "    </tr>\n",
       "    <tr>\n",
       "      <th>221678</th>\n",
       "      <td>0789466953</td>\n",
       "      <td>DK Readers: Creating the X-Men, How Comic Book...</td>\n",
       "      <td>James Buckley\"</td>\n",
       "      <td>2000</td>\n",
       "      <td>http://images.amazon.com/images/P/0789466953.0...</td>\n",
       "    </tr>\n",
       "  </tbody>\n",
       "</table>\n",
       "</div>"
      ],
      "text/plain": [
       "              ISBN                                         Book-Title  \\\n",
       "209538  078946697X  DK Readers: Creating the X-Men, How It All Beg...   \n",
       "220731  2070426769            Peuple du ciel, suivi de 'Les Bergers\\\"   \n",
       "221678  0789466953  DK Readers: Creating the X-Men, How Comic Book...   \n",
       "\n",
       "                             Book-Author Year-Of-Publication  \\\n",
       "209538               Michael Teitelbaum\"                2000   \n",
       "220731  Jean-Marie Gustave Le ClÃ?Â©zio\"                2003   \n",
       "221678                    James Buckley\"                2000   \n",
       "\n",
       "                                                Publisher  \n",
       "209538  http://images.amazon.com/images/P/078946697X.0...  \n",
       "220731  http://images.amazon.com/images/P/2070426769.0...  \n",
       "221678  http://images.amazon.com/images/P/0789466953.0...  "
      ]
     },
     "execution_count": 17,
     "metadata": {},
     "output_type": "execute_result"
    }
   ],
   "source": [
    "books_df.iloc[error_rows]"
   ]
  },
  {
   "cell_type": "markdown",
   "metadata": {},
   "source": [
    "## Counts and dist"
   ]
  },
  {
   "cell_type": "code",
   "execution_count": 18,
   "metadata": {},
   "outputs": [
    {
     "data": {
      "text/plain": [
       "(340556, 271360)"
      ]
     },
     "execution_count": 18,
     "metadata": {},
     "output_type": "execute_result"
    }
   ],
   "source": [
    "ratings_df[\"ISBN\"].nunique(), books_df[\"ISBN\"].nunique()"
   ]
  },
  {
   "cell_type": "code",
   "execution_count": 19,
   "metadata": {},
   "outputs": [
    {
     "data": {
      "text/plain": [
       "((1031136, 7), 270151)"
      ]
     },
     "execution_count": 19,
     "metadata": {},
     "output_type": "execute_result"
    }
   ],
   "source": [
    "rated_books = pd.merge(books_df, ratings_df, on=\"ISBN\")\n",
    "rated_books.shape, rated_books[\"ISBN\"].nunique()"
   ]
  },
  {
   "cell_type": "code",
   "execution_count": 20,
   "metadata": {},
   "outputs": [
    {
     "data": {
      "image/png": "[encoded data removed]",
      "text/plain": [
       "<Figure size 640x480 with 1 Axes>"
      ]
     },
     "metadata": {},
     "output_type": "display_data"
    }
   ],
   "source": [
    "# there are ratings for books which are not in book table\n",
    "ratings_set = set(ratings_df[\"ISBN\"])\n",
    "books_set = set(books_df[\"ISBN\"])\n",
    "\n",
    "venn2(subsets=(len(ratings_set - books_set), len(books_set - ratings_set), len(ratings_set & books_set)),\n",
    "      set_labels=(\"Ratings\", \"Books\"),\n",
    "      set_colors=(\"red\", \"blue\"))\n",
    "\n",
    "plt.show()"
   ]
  },
  {
   "cell_type": "code",
   "execution_count": 21,
   "metadata": {},
   "outputs": [],
   "source": [
    "num_isbns = 70405+270151"
   ]
  },
  {
   "cell_type": "code",
   "execution_count": 22,
   "metadata": {},
   "outputs": [],
   "source": [
    "# drop books without ratings\n",
    "merged_books_df = books_df.merge(ratings_df, on='ISBN', how='left')\n",
    "\n",
    "books_without_rating = merged_books_df[merged_books_df['Book-Rating'].isna()]\n",
    "\n",
    "books_df = books_df[~books_df['ISBN'].isin(books_without_rating['ISBN'])]"
   ]
  },
  {
   "cell_type": "code",
   "execution_count": 23,
   "metadata": {},
   "outputs": [
    {
     "data": {
      "image/png": "[encoded data removed]",
      "text/plain": [
       "<Figure size 640x480 with 1 Axes>"
      ]
     },
     "metadata": {},
     "output_type": "display_data"
    }
   ],
   "source": [
    "ratings_set = set(ratings_df[\"User-ID\"])\n",
    "users_set = set(users_df[\"User-ID\"])\n",
    "\n",
    "venn2(subsets=(len(ratings_set - users_set), len(users_set - ratings_set), len(ratings_set & users_set)),\n",
    "      set_labels=(\"Ratings\", \"Users\"),\n",
    "      set_colors=(\"red\", \"blue\"))\n",
    "\n",
    "plt.show()"
   ]
  },
  {
   "cell_type": "code",
   "execution_count": 24,
   "metadata": {},
   "outputs": [
    {
     "name": "stdout",
     "output_type": "stream",
     "text": [
      "Users without a rating:\n",
      "(173575, 1)\n"
     ]
    }
   ],
   "source": [
    "# drop users without ratings\n",
    "merged_df = users_df.merge(right=ratings_df, on='User-ID', how='left')\n",
    "\n",
    "users_without_rating = merged_df[merged_df['Book-Rating'].isna()]\n",
    "\n",
    "print(\"Users without a rating:\")\n",
    "print(users_without_rating[['User-ID']].shape)"
   ]
  },
  {
   "cell_type": "code",
   "execution_count": 25,
   "metadata": {},
   "outputs": [
    {
     "data": {
      "text/html": [
       "<div>\n",
       "<style scoped>\n",
       "    .dataframe tbody tr th:only-of-type {\n",
       "        vertical-align: middle;\n",
       "    }\n",
       "\n",
       "    .dataframe tbody tr th {\n",
       "        vertical-align: top;\n",
       "    }\n",
       "\n",
       "    .dataframe thead th {\n",
       "        text-align: right;\n",
       "    }\n",
       "</style>\n",
       "<table border=\"1\" class=\"dataframe\">\n",
       "  <thead>\n",
       "    <tr style=\"text-align: right;\">\n",
       "      <th></th>\n",
       "      <th>User-ID</th>\n",
       "      <th>Location</th>\n",
       "      <th>Age</th>\n",
       "      <th>ISBN</th>\n",
       "      <th>Book-Rating</th>\n",
       "    </tr>\n",
       "  </thead>\n",
       "  <tbody>\n",
       "    <tr>\n",
       "      <th>0</th>\n",
       "      <td>1</td>\n",
       "      <td>nyc, new york, usa</td>\n",
       "      <td>NaN</td>\n",
       "      <td>NaN</td>\n",
       "      <td>NaN</td>\n",
       "    </tr>\n",
       "    <tr>\n",
       "      <th>2</th>\n",
       "      <td>3</td>\n",
       "      <td>moscow, yukon territory, russia</td>\n",
       "      <td>NaN</td>\n",
       "      <td>NaN</td>\n",
       "      <td>NaN</td>\n",
       "    </tr>\n",
       "    <tr>\n",
       "      <th>3</th>\n",
       "      <td>4</td>\n",
       "      <td>porto, v.n.gaia, portugal</td>\n",
       "      <td>17.0</td>\n",
       "      <td>NaN</td>\n",
       "      <td>NaN</td>\n",
       "    </tr>\n",
       "    <tr>\n",
       "      <th>4</th>\n",
       "      <td>5</td>\n",
       "      <td>farnborough, hants, united kingdom</td>\n",
       "      <td>NaN</td>\n",
       "      <td>NaN</td>\n",
       "      <td>NaN</td>\n",
       "    </tr>\n",
       "    <tr>\n",
       "      <th>5</th>\n",
       "      <td>6</td>\n",
       "      <td>santa monica, california, usa</td>\n",
       "      <td>61.0</td>\n",
       "      <td>NaN</td>\n",
       "      <td>NaN</td>\n",
       "    </tr>\n",
       "  </tbody>\n",
       "</table>\n",
       "</div>"
      ],
      "text/plain": [
       "   User-ID                            Location   Age ISBN  Book-Rating\n",
       "0        1                  nyc, new york, usa   NaN  NaN          NaN\n",
       "2        3     moscow, yukon territory, russia   NaN  NaN          NaN\n",
       "3        4           porto, v.n.gaia, portugal  17.0  NaN          NaN\n",
       "4        5  farnborough, hants, united kingdom   NaN  NaN          NaN\n",
       "5        6       santa monica, california, usa  61.0  NaN          NaN"
      ]
     },
     "execution_count": 25,
     "metadata": {},
     "output_type": "execute_result"
    }
   ],
   "source": [
    "users_without_rating.head()"
   ]
  },
  {
   "cell_type": "code",
   "execution_count": 26,
   "metadata": {},
   "outputs": [],
   "source": [
    "users_df = users_df[~users_df['User-ID'].isin(users_without_rating['User-ID'])]"
   ]
  },
  {
   "cell_type": "code",
   "execution_count": 27,
   "metadata": {},
   "outputs": [
    {
     "data": {
      "text/html": [
       "<div>\n",
       "<style scoped>\n",
       "    .dataframe tbody tr th:only-of-type {\n",
       "        vertical-align: middle;\n",
       "    }\n",
       "\n",
       "    .dataframe tbody tr th {\n",
       "        vertical-align: top;\n",
       "    }\n",
       "\n",
       "    .dataframe thead th {\n",
       "        text-align: right;\n",
       "    }\n",
       "</style>\n",
       "<table border=\"1\" class=\"dataframe\">\n",
       "  <thead>\n",
       "    <tr style=\"text-align: right;\">\n",
       "      <th></th>\n",
       "      <th>User-ID</th>\n",
       "      <th>ISBN</th>\n",
       "      <th>Book-Rating</th>\n",
       "    </tr>\n",
       "  </thead>\n",
       "  <tbody>\n",
       "  </tbody>\n",
       "</table>\n",
       "</div>"
      ],
      "text/plain": [
       "Empty DataFrame\n",
       "Columns: [User-ID, ISBN, Book-Rating]\n",
       "Index: []"
      ]
     },
     "execution_count": 27,
     "metadata": {},
     "output_type": "execute_result"
    }
   ],
   "source": [
    "res = ratings_df[ratings_df['User-ID'] == 1]\n",
    "res"
   ]
  },
  {
   "cell_type": "code",
   "execution_count": 28,
   "metadata": {},
   "outputs": [
    {
     "data": {
      "image/png": "[encoded data removed]",
      "text/plain": [
       "<Figure size 640x480 with 1 Axes>"
      ]
     },
     "metadata": {},
     "output_type": "display_data"
    }
   ],
   "source": [
    "plt.hist(ratings_df['Book-Rating'], bins=10, edgecolor='black', alpha=0.7)\n",
    "\n",
    "plt.title('Distribution of Ratings')\n",
    "plt.xlabel('Rating')\n",
    "plt.ylabel('Frequency')\n",
    "\n",
    "plt.show()"
   ]
  },
  {
   "cell_type": "markdown",
   "metadata": {},
   "source": [
    "- rating 0 means implicit feedback. What does it mean?\n",
    "- excerpt from the original paper\n",
    "  - \"Ratings can either be explicit, i.e., by\n",
    "having the user state his opinion about a given product, or\n",
    "implicit, when the mere act of purchasing or mentioning of\n",
    "an item counts as an expression of appreciation. While implicit ratings are generally more facile to collect, their usage\n",
    "implies adding noise to the collected information \"\n",
    "  - Data Collection\n",
    "    - In a 4-week crawl, we collected data on 278, 858 members\n",
    "of BookCrossing and 1, 157, 112 ratings, both implicit and\n",
    "explicit, referring to 271, 379 distinct ISBNs \n",
    "- ok :)"
   ]
  },
  {
   "cell_type": "code",
   "execution_count": 29,
   "metadata": {},
   "outputs": [
    {
     "data": {
      "text/plain": [
       "(Index(['ISBN', 'Book-Title', 'Book-Author', 'Year-Of-Publication',\n",
       "        'Publisher'],\n",
       "       dtype='object'),\n",
       " (270151, 5))"
      ]
     },
     "execution_count": 29,
     "metadata": {},
     "output_type": "execute_result"
    }
   ],
   "source": [
    "books_df.columns, books_df.shape"
   ]
  },
  {
   "cell_type": "code",
   "execution_count": 30,
   "metadata": {},
   "outputs": [
    {
     "data": {
      "text/plain": [
       "Book-Title\n",
       "Selected Poems                                                                                                                    26\n",
       "Little Women                                                                                                                      24\n",
       "Wuthering Heights                                                                                                                 21\n",
       "Dracula                                                                                                                           20\n",
       "Adventures of Huckleberry Finn                                                                                                    20\n",
       "                                                                                                                                  ..\n",
       "Worry: Controlling It and Using It Wisely                                                                                          1\n",
       "An Encounter With a Prophet                                                                                                        1\n",
       "Wohin?                                                                                                                             1\n",
       "Warum?                                                                                                                             1\n",
       "A Guided Tour of Rene Descartes' Meditations on First Philosophy with Complete Translations of the Meditations by Ronald Rubin     1\n",
       "Name: count, Length: 241071, dtype: int64"
      ]
     },
     "execution_count": 30,
     "metadata": {},
     "output_type": "execute_result"
    }
   ],
   "source": [
    "books_df[\"Book-Title\"].value_counts()"
   ]
  },
  {
   "cell_type": "code",
   "execution_count": 31,
   "metadata": {},
   "outputs": [
    {
     "data": {
      "text/plain": [
       "Book-Author\n",
       "Agatha Christie        631\n",
       "William Shakespeare    564\n",
       "Stephen King           522\n",
       "Ann M. Martin          420\n",
       "Carolyn Keene          372\n",
       "                      ... \n",
       "Diana Wakeman            1\n",
       "Jayne Gurley             1\n",
       "Madeline Sunshine        1\n",
       "Claudia Ponte            1\n",
       "Christopher  Biffle      1\n",
       "Name: count, Length: 101589, dtype: int64"
      ]
     },
     "execution_count": 31,
     "metadata": {},
     "output_type": "execute_result"
    }
   ],
   "source": [
    "books_df[\"Book-Author\"].value_counts()"
   ]
  },
  {
   "cell_type": "code",
   "execution_count": 32,
   "metadata": {},
   "outputs": [
    {
     "data": {
      "text/plain": [
       "(Year-Of-Publication\n",
       " 2002    17543\n",
       " 1999    17342\n",
       " 2001    17265\n",
       " 2000    17151\n",
       " 1998    15700\n",
       "         ...  \n",
       " 2038        1\n",
       " 1910        1\n",
       " 1914        1\n",
       " 1904        1\n",
       " 2037        1\n",
       " Name: count, Length: 118, dtype: int64,\n",
       " array([   0, 1376, 1378, 1806, 1897, 1900, 1901, 1902, 1904, 1906, 1908,\n",
       "        1909, 1910, 1911, 1914, 1917, 1919, 1920, 1921, 1922, 1923, 1924,\n",
       "        1925, 1926, 1927, 1928, 1929, 1930, 1931, 1932, 1933, 1934, 1935,\n",
       "        1936, 1937, 1938, 1939, 1940, 1941, 1942, 1943, 1944, 1945, 1946,\n",
       "        1947, 1948, 1949, 1950, 1951, 1952, 1953, 1954, 1955, 1956, 1957,\n",
       "        1958, 1959, 1960, 1961, 1962, 1963, 1964, 1965, 1966, 1967, 1968,\n",
       "        1969, 1970, 1971, 1972, 1973, 1974, 1975, 1976, 1977, 1978, 1979,\n",
       "        1980, 1981, 1982, 1983, 1984, 1985, 1986, 1987, 1988, 1989, 1990,\n",
       "        1991, 1992, 1993, 1994, 1995, 1996, 1997, 1998, 1999, 2000, 2001,\n",
       "        2002, 2003, 2004, 2005, 2006, 2008, 2010, 2011, 2012, 2020, 2021,\n",
       "        2024, 2026, 2030, 2037, 2038, 2050]))"
      ]
     },
     "execution_count": 32,
     "metadata": {},
     "output_type": "execute_result"
    }
   ],
   "source": [
    "books_df[\"Year-Of-Publication\"].value_counts(), books_df[\"Year-Of-Publication\"].astype(int).sort_values().unique()"
   ]
  },
  {
   "cell_type": "code",
   "execution_count": 33,
   "metadata": {},
   "outputs": [
    {
     "data": {
      "text/plain": [
       "(Index(['User-ID', 'Location', 'Age'], dtype='object'), (105283, 3))"
      ]
     },
     "execution_count": 33,
     "metadata": {},
     "output_type": "execute_result"
    }
   ],
   "source": [
    "users_df.columns, users_df.shape"
   ]
  },
  {
   "cell_type": "code",
   "execution_count": 34,
   "metadata": {},
   "outputs": [
    {
     "data": {
      "text/plain": [
       "(Age\n",
       " 26.0     1970\n",
       " 29.0     1959\n",
       " 25.0     1953\n",
       " 28.0     1890\n",
       " 27.0     1879\n",
       "          ... \n",
       " 147.0       1\n",
       " 97.0        1\n",
       " 168.0       1\n",
       " 132.0       1\n",
       " 98.0        1\n",
       " Name: count, Length: 144, dtype: int64,\n",
       " array([  0.,   1.,   2.,   3.,   4.,   5.,   6.,   7.,   8.,   9.,  10.,\n",
       "         11.,  12.,  13.,  14.,  15.,  16.,  17.,  18.,  19.,  20.,  21.,\n",
       "         22.,  23.,  24.,  25.,  26.,  27.,  28.,  29.,  30.,  31.,  32.,\n",
       "         33.,  34.,  35.,  36.,  37.,  38.,  39.,  40.,  41.,  42.,  43.,\n",
       "         44.,  45.,  46.,  47.,  48.,  49.,  50.,  51.,  52.,  53.,  54.,\n",
       "         55.,  56.,  57.,  58.,  59.,  60.,  61.,  62.,  63.,  64.,  65.,\n",
       "         66.,  67.,  68.,  69.,  70.,  71.,  72.,  73.,  74.,  75.,  76.,\n",
       "         77.,  78.,  79.,  80.,  81.,  82.,  83.,  84.,  85.,  86.,  89.,\n",
       "         90.,  91.,  92.,  93.,  94.,  95.,  96.,  97.,  98.,  99., 100.,\n",
       "        101., 103., 104., 105., 107., 108., 109., 114., 115., 116., 118.,\n",
       "        123., 124., 127., 128., 132., 133., 136., 138., 140., 141., 146.,\n",
       "        147., 148., 151., 152., 156., 157., 168., 172., 199., 200., 201.,\n",
       "        204., 209., 212., 219., 220., 223., 226., 228., 229., 237., 239.,\n",
       "        244.]))"
      ]
     },
     "execution_count": 34,
     "metadata": {},
     "output_type": "execute_result"
    }
   ],
   "source": [
    "# there were some really old people xd\n",
    "users_df[\"Age\"].value_counts(), users_df[\"Age\"].dropna().sort_values().unique()"
   ]
  },
  {
   "cell_type": "code",
   "execution_count": 35,
   "metadata": {},
   "outputs": [
    {
     "data": {
      "text/plain": [
       "User-ID\n",
       "11676     13602\n",
       "198711     7550\n",
       "153662     6109\n",
       "98391      5891\n",
       "35859      5850\n",
       "          ...  \n",
       "116180        1\n",
       "116166        1\n",
       "116154        1\n",
       "116137        1\n",
       "276723        1\n",
       "Name: count, Length: 105283, dtype: int64"
      ]
     },
     "execution_count": 35,
     "metadata": {},
     "output_type": "execute_result"
    }
   ],
   "source": [
    "ratings_df['User-ID'].value_counts()"
   ]
  },
  {
   "cell_type": "markdown",
   "metadata": {},
   "source": [
    "## Aggregate into one row\n",
    "- in one row information about user and book for simpler processing of models"
   ]
  },
  {
   "cell_type": "code",
   "execution_count": 36,
   "metadata": {},
   "outputs": [
    {
     "data": {
      "text/plain": [
       "(1149780, 3)"
      ]
     },
     "execution_count": 36,
     "metadata": {},
     "output_type": "execute_result"
    }
   ],
   "source": [
    "ratings_df.shape"
   ]
  },
  {
   "cell_type": "code",
   "execution_count": 37,
   "metadata": {},
   "outputs": [
    {
     "data": {
      "text/plain": [
       "340556"
      ]
     },
     "execution_count": 37,
     "metadata": {},
     "output_type": "execute_result"
    }
   ],
   "source": [
    "ratings_df[\"ISBN\"].nunique()"
   ]
  },
  {
   "cell_type": "code",
   "execution_count": 38,
   "metadata": {},
   "outputs": [
    {
     "data": {
      "text/plain": [
       "(1149780, 7)"
      ]
     },
     "execution_count": 38,
     "metadata": {},
     "output_type": "execute_result"
    }
   ],
   "source": [
    "ratings = ratings_df.merge(books_df, how=\"left\", on=\"ISBN\")\n",
    "ratings.shape"
   ]
  },
  {
   "cell_type": "code",
   "execution_count": 39,
   "metadata": {},
   "outputs": [
    {
     "data": {
      "text/plain": [
       "(1149780, 9)"
      ]
     },
     "execution_count": 39,
     "metadata": {},
     "output_type": "execute_result"
    }
   ],
   "source": [
    "ratings = ratings.merge(users_df, how=\"inner\", on=\"User-ID\")\n",
    "ratings.shape"
   ]
  },
  {
   "cell_type": "code",
   "execution_count": 40,
   "metadata": {},
   "outputs": [
    {
     "data": {
      "text/html": [
       "<div>\n",
       "<style scoped>\n",
       "    .dataframe tbody tr th:only-of-type {\n",
       "        vertical-align: middle;\n",
       "    }\n",
       "\n",
       "    .dataframe tbody tr th {\n",
       "        vertical-align: top;\n",
       "    }\n",
       "\n",
       "    .dataframe thead th {\n",
       "        text-align: right;\n",
       "    }\n",
       "</style>\n",
       "<table border=\"1\" class=\"dataframe\">\n",
       "  <thead>\n",
       "    <tr style=\"text-align: right;\">\n",
       "      <th></th>\n",
       "      <th>User-ID</th>\n",
       "      <th>ISBN</th>\n",
       "      <th>Book-Rating</th>\n",
       "      <th>Book-Title</th>\n",
       "      <th>Book-Author</th>\n",
       "      <th>Year-Of-Publication</th>\n",
       "      <th>Publisher</th>\n",
       "      <th>Location</th>\n",
       "      <th>Age</th>\n",
       "    </tr>\n",
       "  </thead>\n",
       "  <tbody>\n",
       "    <tr>\n",
       "      <th>6143</th>\n",
       "      <td>278418</td>\n",
       "      <td>0425098559</td>\n",
       "      <td>0</td>\n",
       "      <td>Why Didn't They Ask Evans?</td>\n",
       "      <td>Agatha Christie</td>\n",
       "      <td>1992</td>\n",
       "      <td>Berkley Publishing Group</td>\n",
       "      <td>omaha, nebraska, usa</td>\n",
       "      <td>NaN</td>\n",
       "    </tr>\n",
       "    <tr>\n",
       "      <th>72721</th>\n",
       "      <td>15418</td>\n",
       "      <td>0425098559</td>\n",
       "      <td>0</td>\n",
       "      <td>Why Didn't They Ask Evans?</td>\n",
       "      <td>Agatha Christie</td>\n",
       "      <td>1992</td>\n",
       "      <td>Berkley Publishing Group</td>\n",
       "      <td>vitoria, álava, spain</td>\n",
       "      <td>23.0</td>\n",
       "    </tr>\n",
       "    <tr>\n",
       "      <th>213805</th>\n",
       "      <td>49889</td>\n",
       "      <td>0440107040</td>\n",
       "      <td>10</td>\n",
       "      <td>Why Didn't They Ask Evans?</td>\n",
       "      <td>Agatha Christie</td>\n",
       "      <td>1982</td>\n",
       "      <td>Bantam Books (Mm)</td>\n",
       "      <td>orem, utah, usa</td>\n",
       "      <td>NaN</td>\n",
       "    </tr>\n",
       "    <tr>\n",
       "      <th>399453</th>\n",
       "      <td>95991</td>\n",
       "      <td>0425098559</td>\n",
       "      <td>6</td>\n",
       "      <td>Why Didn't They Ask Evans?</td>\n",
       "      <td>Agatha Christie</td>\n",
       "      <td>1992</td>\n",
       "      <td>Berkley Publishing Group</td>\n",
       "      <td>santa ana, california, usa</td>\n",
       "      <td>28.0</td>\n",
       "    </tr>\n",
       "    <tr>\n",
       "      <th>601771</th>\n",
       "      <td>145449</td>\n",
       "      <td>0425098559</td>\n",
       "      <td>0</td>\n",
       "      <td>Why Didn't They Ask Evans?</td>\n",
       "      <td>Agatha Christie</td>\n",
       "      <td>1992</td>\n",
       "      <td>Berkley Publishing Group</td>\n",
       "      <td>virginia beach, virginia, usa</td>\n",
       "      <td>NaN</td>\n",
       "    </tr>\n",
       "    <tr>\n",
       "      <th>722233</th>\n",
       "      <td>174726</td>\n",
       "      <td>0425098559</td>\n",
       "      <td>0</td>\n",
       "      <td>Why Didn't They Ask Evans?</td>\n",
       "      <td>Agatha Christie</td>\n",
       "      <td>1992</td>\n",
       "      <td>Berkley Publishing Group</td>\n",
       "      <td>san diego, california, usa</td>\n",
       "      <td>NaN</td>\n",
       "    </tr>\n",
       "    <tr>\n",
       "      <th>726791</th>\n",
       "      <td>175312</td>\n",
       "      <td>0425098559</td>\n",
       "      <td>7</td>\n",
       "      <td>Why Didn't They Ask Evans?</td>\n",
       "      <td>Agatha Christie</td>\n",
       "      <td>1992</td>\n",
       "      <td>Berkley Publishing Group</td>\n",
       "      <td>ottawa, ontario, canada</td>\n",
       "      <td>16.0</td>\n",
       "    </tr>\n",
       "    <tr>\n",
       "      <th>765615</th>\n",
       "      <td>185233</td>\n",
       "      <td>0440107040</td>\n",
       "      <td>0</td>\n",
       "      <td>Why Didn't They Ask Evans?</td>\n",
       "      <td>Agatha Christie</td>\n",
       "      <td>1982</td>\n",
       "      <td>Bantam Books (Mm)</td>\n",
       "      <td>winnemucca, nevada, usa</td>\n",
       "      <td>31.0</td>\n",
       "    </tr>\n",
       "    <tr>\n",
       "      <th>793215</th>\n",
       "      <td>191716</td>\n",
       "      <td>0425098559</td>\n",
       "      <td>0</td>\n",
       "      <td>Why Didn't They Ask Evans?</td>\n",
       "      <td>Agatha Christie</td>\n",
       "      <td>1992</td>\n",
       "      <td>Berkley Publishing Group</td>\n",
       "      <td>tatamagouche, nova scotia, canada</td>\n",
       "      <td>49.0</td>\n",
       "    </tr>\n",
       "    <tr>\n",
       "      <th>803509</th>\n",
       "      <td>195287</td>\n",
       "      <td>0425098559</td>\n",
       "      <td>7</td>\n",
       "      <td>Why Didn't They Ask Evans?</td>\n",
       "      <td>Agatha Christie</td>\n",
       "      <td>1992</td>\n",
       "      <td>Berkley Publishing Group</td>\n",
       "      <td>vitoria, alava, spain</td>\n",
       "      <td>NaN</td>\n",
       "    </tr>\n",
       "    <tr>\n",
       "      <th>827517</th>\n",
       "      <td>200226</td>\n",
       "      <td>0425098559</td>\n",
       "      <td>0</td>\n",
       "      <td>Why Didn't They Ask Evans?</td>\n",
       "      <td>Agatha Christie</td>\n",
       "      <td>1992</td>\n",
       "      <td>Berkley Publishing Group</td>\n",
       "      <td>burlington, ontario, canada</td>\n",
       "      <td>39.0</td>\n",
       "    </tr>\n",
       "    <tr>\n",
       "      <th>911507</th>\n",
       "      <td>222050</td>\n",
       "      <td>0440107040</td>\n",
       "      <td>0</td>\n",
       "      <td>Why Didn't They Ask Evans?</td>\n",
       "      <td>Agatha Christie</td>\n",
       "      <td>1982</td>\n",
       "      <td>Bantam Books (Mm)</td>\n",
       "      <td>allen park, michigan, usa</td>\n",
       "      <td>45.0</td>\n",
       "    </tr>\n",
       "    <tr>\n",
       "      <th>1000170</th>\n",
       "      <td>240144</td>\n",
       "      <td>0440107040</td>\n",
       "      <td>0</td>\n",
       "      <td>Why Didn't They Ask Evans?</td>\n",
       "      <td>Agatha Christie</td>\n",
       "      <td>1982</td>\n",
       "      <td>Bantam Books (Mm)</td>\n",
       "      <td>muskego, wisconsin, usa</td>\n",
       "      <td>34.0</td>\n",
       "    </tr>\n",
       "    <tr>\n",
       "      <th>1001483</th>\n",
       "      <td>240394</td>\n",
       "      <td>0425098559</td>\n",
       "      <td>8</td>\n",
       "      <td>Why Didn't They Ask Evans?</td>\n",
       "      <td>Agatha Christie</td>\n",
       "      <td>1992</td>\n",
       "      <td>Berkley Publishing Group</td>\n",
       "      <td>baker city, oregon, usa</td>\n",
       "      <td>25.0</td>\n",
       "    </tr>\n",
       "  </tbody>\n",
       "</table>\n",
       "</div>"
      ],
      "text/plain": [
       "         User-ID        ISBN  Book-Rating                  Book-Title  \\\n",
       "6143      278418  0425098559            0  Why Didn't They Ask Evans?   \n",
       "72721      15418  0425098559            0  Why Didn't They Ask Evans?   \n",
       "213805     49889  0440107040           10  Why Didn't They Ask Evans?   \n",
       "399453     95991  0425098559            6  Why Didn't They Ask Evans?   \n",
       "601771    145449  0425098559            0  Why Didn't They Ask Evans?   \n",
       "722233    174726  0425098559            0  Why Didn't They Ask Evans?   \n",
       "726791    175312  0425098559            7  Why Didn't They Ask Evans?   \n",
       "765615    185233  0440107040            0  Why Didn't They Ask Evans?   \n",
       "793215    191716  0425098559            0  Why Didn't They Ask Evans?   \n",
       "803509    195287  0425098559            7  Why Didn't They Ask Evans?   \n",
       "827517    200226  0425098559            0  Why Didn't They Ask Evans?   \n",
       "911507    222050  0440107040            0  Why Didn't They Ask Evans?   \n",
       "1000170   240144  0440107040            0  Why Didn't They Ask Evans?   \n",
       "1001483   240394  0425098559            8  Why Didn't They Ask Evans?   \n",
       "\n",
       "             Book-Author Year-Of-Publication                 Publisher  \\\n",
       "6143     Agatha Christie                1992  Berkley Publishing Group   \n",
       "72721    Agatha Christie                1992  Berkley Publishing Group   \n",
       "213805   Agatha Christie                1982         Bantam Books (Mm)   \n",
       "399453   Agatha Christie                1992  Berkley Publishing Group   \n",
       "601771   Agatha Christie                1992  Berkley Publishing Group   \n",
       "722233   Agatha Christie                1992  Berkley Publishing Group   \n",
       "726791   Agatha Christie                1992  Berkley Publishing Group   \n",
       "765615   Agatha Christie                1982         Bantam Books (Mm)   \n",
       "793215   Agatha Christie                1992  Berkley Publishing Group   \n",
       "803509   Agatha Christie                1992  Berkley Publishing Group   \n",
       "827517   Agatha Christie                1992  Berkley Publishing Group   \n",
       "911507   Agatha Christie                1982         Bantam Books (Mm)   \n",
       "1000170  Agatha Christie                1982         Bantam Books (Mm)   \n",
       "1001483  Agatha Christie                1992  Berkley Publishing Group   \n",
       "\n",
       "                                  Location   Age  \n",
       "6143                  omaha, nebraska, usa   NaN  \n",
       "72721                vitoria, álava, spain  23.0  \n",
       "213805                     orem, utah, usa   NaN  \n",
       "399453          santa ana, california, usa  28.0  \n",
       "601771       virginia beach, virginia, usa   NaN  \n",
       "722233          san diego, california, usa   NaN  \n",
       "726791             ottawa, ontario, canada  16.0  \n",
       "765615             winnemucca, nevada, usa  31.0  \n",
       "793215   tatamagouche, nova scotia, canada  49.0  \n",
       "803509               vitoria, alava, spain   NaN  \n",
       "827517         burlington, ontario, canada  39.0  \n",
       "911507           allen park, michigan, usa  45.0  \n",
       "1000170            muskego, wisconsin, usa  34.0  \n",
       "1001483            baker city, oregon, usa  25.0  "
      ]
     },
     "execution_count": 40,
     "metadata": {},
     "output_type": "execute_result"
    }
   ],
   "source": [
    "ratings[ratings[\"Book-Title\"] == \"Why Didn't They Ask Evans?\"]"
   ]
  },
  {
   "cell_type": "code",
   "execution_count": 41,
   "metadata": {},
   "outputs": [],
   "source": [
    "user_id_mapping = {user_id: index for index, user_id in enumerate(ratings['User-ID'].unique())}\n",
    "ratings.loc[:, 'user_id'] = ratings['User-ID'].map(user_id_mapping)\n",
    "\n",
    "book_id_mapping = {book_id: index for index, book_id in enumerate(ratings['ISBN'].unique())}\n",
    "ratings.loc[:, 'book_id'] = ratings['ISBN'].map(book_id_mapping)"
   ]
  },
  {
   "cell_type": "code",
   "execution_count": 42,
   "metadata": {},
   "outputs": [
    {
     "data": {
      "text/html": [
       "<div>\n",
       "<style scoped>\n",
       "    .dataframe tbody tr th:only-of-type {\n",
       "        vertical-align: middle;\n",
       "    }\n",
       "\n",
       "    .dataframe tbody tr th {\n",
       "        vertical-align: top;\n",
       "    }\n",
       "\n",
       "    .dataframe thead th {\n",
       "        text-align: right;\n",
       "    }\n",
       "</style>\n",
       "<table border=\"1\" class=\"dataframe\">\n",
       "  <thead>\n",
       "    <tr style=\"text-align: right;\">\n",
       "      <th></th>\n",
       "      <th>User-ID</th>\n",
       "      <th>Book-Rating</th>\n",
       "      <th>Age</th>\n",
       "      <th>user_id</th>\n",
       "      <th>book_id</th>\n",
       "    </tr>\n",
       "  </thead>\n",
       "  <tbody>\n",
       "    <tr>\n",
       "      <th>count</th>\n",
       "      <td>1.149780e+06</td>\n",
       "      <td>1.149780e+06</td>\n",
       "      <td>840288.000000</td>\n",
       "      <td>1.149780e+06</td>\n",
       "      <td>1.149780e+06</td>\n",
       "    </tr>\n",
       "    <tr>\n",
       "      <th>mean</th>\n",
       "      <td>1.403864e+05</td>\n",
       "      <td>2.866950e+00</td>\n",
       "      <td>37.239724</td>\n",
       "      <td>5.295677e+04</td>\n",
       "      <td>8.876410e+04</td>\n",
       "    </tr>\n",
       "    <tr>\n",
       "      <th>std</th>\n",
       "      <td>8.056228e+04</td>\n",
       "      <td>3.854184e+00</td>\n",
       "      <td>14.246676</td>\n",
       "      <td>3.039397e+04</td>\n",
       "      <td>9.191268e+04</td>\n",
       "    </tr>\n",
       "    <tr>\n",
       "      <th>min</th>\n",
       "      <td>2.000000e+00</td>\n",
       "      <td>0.000000e+00</td>\n",
       "      <td>0.000000</td>\n",
       "      <td>0.000000e+00</td>\n",
       "      <td>0.000000e+00</td>\n",
       "    </tr>\n",
       "    <tr>\n",
       "      <th>25%</th>\n",
       "      <td>7.034500e+04</td>\n",
       "      <td>0.000000e+00</td>\n",
       "      <td>28.000000</td>\n",
       "      <td>2.697700e+04</td>\n",
       "      <td>1.517900e+04</td>\n",
       "    </tr>\n",
       "    <tr>\n",
       "      <th>50%</th>\n",
       "      <td>1.410100e+05</td>\n",
       "      <td>0.000000e+00</td>\n",
       "      <td>35.000000</td>\n",
       "      <td>5.320200e+04</td>\n",
       "      <td>5.077200e+04</td>\n",
       "    </tr>\n",
       "    <tr>\n",
       "      <th>75%</th>\n",
       "      <td>2.110280e+05</td>\n",
       "      <td>7.000000e+00</td>\n",
       "      <td>45.000000</td>\n",
       "      <td>7.937400e+04</td>\n",
       "      <td>1.415450e+05</td>\n",
       "    </tr>\n",
       "    <tr>\n",
       "      <th>max</th>\n",
       "      <td>2.788540e+05</td>\n",
       "      <td>1.000000e+01</td>\n",
       "      <td>244.000000</td>\n",
       "      <td>1.052820e+05</td>\n",
       "      <td>3.405550e+05</td>\n",
       "    </tr>\n",
       "  </tbody>\n",
       "</table>\n",
       "</div>"
      ],
      "text/plain": [
       "            User-ID   Book-Rating            Age       user_id       book_id\n",
       "count  1.149780e+06  1.149780e+06  840288.000000  1.149780e+06  1.149780e+06\n",
       "mean   1.403864e+05  2.866950e+00      37.239724  5.295677e+04  8.876410e+04\n",
       "std    8.056228e+04  3.854184e+00      14.246676  3.039397e+04  9.191268e+04\n",
       "min    2.000000e+00  0.000000e+00       0.000000  0.000000e+00  0.000000e+00\n",
       "25%    7.034500e+04  0.000000e+00      28.000000  2.697700e+04  1.517900e+04\n",
       "50%    1.410100e+05  0.000000e+00      35.000000  5.320200e+04  5.077200e+04\n",
       "75%    2.110280e+05  7.000000e+00      45.000000  7.937400e+04  1.415450e+05\n",
       "max    2.788540e+05  1.000000e+01     244.000000  1.052820e+05  3.405550e+05"
      ]
     },
     "execution_count": 42,
     "metadata": {},
     "output_type": "execute_result"
    }
   ],
   "source": [
    "ratings.describe()"
   ]
  },
  {
   "cell_type": "code",
   "execution_count": 43,
   "metadata": {},
   "outputs": [
    {
     "data": {
      "text/plain": [
       "(340556, (1149780, 3))"
      ]
     },
     "execution_count": 43,
     "metadata": {},
     "output_type": "execute_result"
    }
   ],
   "source": [
    "ratings_df[\"ISBN\"].nunique(), ratings_df.shape"
   ]
  },
  {
   "cell_type": "code",
   "execution_count": 44,
   "metadata": {},
   "outputs": [
    {
     "data": {
      "text/plain": [
       "(105283, (105283, 3))"
      ]
     },
     "execution_count": 44,
     "metadata": {},
     "output_type": "execute_result"
    }
   ],
   "source": [
    "users_df[\"User-ID\"].nunique(), users_df.shape"
   ]
  },
  {
   "cell_type": "code",
   "execution_count": 45,
   "metadata": {},
   "outputs": [
    {
     "data": {
      "text/plain": [
       "(340556, 105283, 340556)"
      ]
     },
     "execution_count": 45,
     "metadata": {},
     "output_type": "execute_result"
    }
   ],
   "source": [
    "ratings[\"book_id\"].nunique(), ratings[\"user_id\"].nunique(), ratings[\"ISBN\"].nunique()"
   ]
  },
  {
   "cell_type": "code",
   "execution_count": 46,
   "metadata": {},
   "outputs": [
    {
     "data": {
      "text/plain": [
       "(1149780, 11)"
      ]
     },
     "execution_count": 46,
     "metadata": {},
     "output_type": "execute_result"
    }
   ],
   "source": [
    "ratings.shape"
   ]
  },
  {
   "cell_type": "code",
   "execution_count": 47,
   "metadata": {},
   "outputs": [],
   "source": [
    "ratings.drop([\"User-ID\"], axis=1, inplace=True)\n",
    "ratings.drop([\"ISBN\"], axis=1, inplace=True)"
   ]
  },
  {
   "cell_type": "code",
   "execution_count": 48,
   "metadata": {},
   "outputs": [
    {
     "data": {
      "image/png": "[encoded data removed]",
      "text/plain": [
       "<Figure size 1000x600 with 1 Axes>"
      ]
     },
     "metadata": {},
     "output_type": "display_data"
    }
   ],
   "source": [
    "import matplotlib.pyplot as plt\n",
    "\n",
    "plt.figure(figsize=(10, 6))\n",
    "plt.hist(ratings['user_id'].value_counts(), bins=50, color='skyblue', edgecolor='black')\n",
    "plt.title('Distribution of Number of Ratings per User')\n",
    "plt.xlabel('Number of Ratings')\n",
    "plt.ylabel('Number of Users')\n",
    "plt.yscale('log')\n",
    "plt.grid(True)\n",
    "plt.show()"
   ]
  },
  {
   "cell_type": "markdown",
   "metadata": {},
   "source": [
    "- drop users with less than 10 ratings"
   ]
  },
  {
   "cell_type": "code",
   "execution_count": 49,
   "metadata": {},
   "outputs": [
    {
     "data": {
      "text/plain": [
       "((965713, 9), 13097)"
      ]
     },
     "execution_count": 49,
     "metadata": {},
     "output_type": "execute_result"
    }
   ],
   "source": [
    "user_ratings_counts = ratings['user_id'].value_counts()\n",
    "\n",
    "users_with_less_than_10_ratings = user_ratings_counts[user_ratings_counts < 10].index\n",
    "ratings = ratings[~ratings['user_id'].isin(users_with_less_than_10_ratings)]\n",
    "\n",
    "\n",
    "ratings.shape, ratings[\"user_id\"].nunique()"
   ]
  },
  {
   "cell_type": "code",
   "execution_count": 50,
   "metadata": {},
   "outputs": [
    {
     "data": {
      "image/png": "[encoded data removed]",
      "text/plain": [
       "<Figure size 1000x600 with 1 Axes>"
      ]
     },
     "metadata": {},
     "output_type": "display_data"
    }
   ],
   "source": [
    "import matplotlib.pyplot as plt\n",
    "\n",
    "plt.figure(figsize=(10, 6))\n",
    "plt.hist(ratings['user_id'].value_counts(), bins=50, color='skyblue', edgecolor='black')\n",
    "plt.title('Distribution of Number of Ratings per User')\n",
    "plt.xlabel('Number of Ratings')\n",
    "plt.ylabel('Number of Users')\n",
    "plt.yscale('log')\n",
    "plt.grid(True)\n",
    "plt.show()"
   ]
  },
  {
   "cell_type": "code",
   "execution_count": 51,
   "metadata": {},
   "outputs": [
    {
     "data": {
      "text/plain": [
       "user_id\n",
       "5063     13602\n",
       "75665     7550\n",
       "58963     6109\n",
       "38206     5891\n",
       "14426     5850\n",
       "         ...  \n",
       "62764       10\n",
       "53653       10\n",
       "74814       10\n",
       "43870       10\n",
       "86331       10\n",
       "Name: count, Length: 13097, dtype: int64"
      ]
     },
     "execution_count": 51,
     "metadata": {},
     "output_type": "execute_result"
    }
   ],
   "source": [
    "ratings['user_id'].value_counts()"
   ]
  },
  {
   "cell_type": "code",
   "execution_count": 52,
   "metadata": {},
   "outputs": [
    {
     "data": {
      "text/plain": [
       "(array([5078.,  133.,  112.,  217.,  294.,  835.,  873., 1597., 2138.,\n",
       "        2325.]),\n",
       " array([ 0.,  1.,  2.,  3.,  4.,  5.,  6.,  7.,  8.,  9., 10.]),\n",
       " <BarContainer object of 10 artists>)"
      ]
     },
     "execution_count": 52,
     "metadata": {},
     "output_type": "execute_result"
    },
    {
     "data": {
      "image/png": "[encoded data removed]",
      "text/plain": [
       "<Figure size 640x480 with 1 Axes>"
      ]
     },
     "metadata": {},
     "output_type": "display_data"
    }
   ],
   "source": [
    "plt.hist(ratings[ratings[\"user_id\"] == 5063]['Book-Rating'], bins=10, edgecolor='black', alpha=0.7)"
   ]
  },
  {
   "cell_type": "code",
   "execution_count": 53,
   "metadata": {},
   "outputs": [
    {
     "data": {
      "text/html": [
       "<div>\n",
       "<style scoped>\n",
       "    .dataframe tbody tr th:only-of-type {\n",
       "        vertical-align: middle;\n",
       "    }\n",
       "\n",
       "    .dataframe tbody tr th {\n",
       "        vertical-align: top;\n",
       "    }\n",
       "\n",
       "    .dataframe thead th {\n",
       "        text-align: right;\n",
       "    }\n",
       "</style>\n",
       "<table border=\"1\" class=\"dataframe\">\n",
       "  <thead>\n",
       "    <tr style=\"text-align: right;\">\n",
       "      <th></th>\n",
       "      <th>Book-Rating</th>\n",
       "      <th>Book-Title</th>\n",
       "      <th>Book-Author</th>\n",
       "      <th>Year-Of-Publication</th>\n",
       "      <th>Publisher</th>\n",
       "      <th>Location</th>\n",
       "      <th>Age</th>\n",
       "      <th>user_id</th>\n",
       "      <th>book_id</th>\n",
       "    </tr>\n",
       "  </thead>\n",
       "  <tbody>\n",
       "    <tr>\n",
       "      <th>45326</th>\n",
       "      <td>7</td>\n",
       "      <td>NaN</td>\n",
       "      <td>NaN</td>\n",
       "      <td>NaN</td>\n",
       "      <td>NaN</td>\n",
       "      <td>n/a, n/a, n/a</td>\n",
       "      <td>NaN</td>\n",
       "      <td>5063</td>\n",
       "      <td>33488</td>\n",
       "    </tr>\n",
       "  </tbody>\n",
       "</table>\n",
       "</div>"
      ],
      "text/plain": [
       "       Book-Rating Book-Title Book-Author Year-Of-Publication Publisher  \\\n",
       "45326            7        NaN         NaN                 NaN       NaN   \n",
       "\n",
       "            Location  Age  user_id  book_id  \n",
       "45326  n/a, n/a, n/a  NaN     5063    33488  "
      ]
     },
     "execution_count": 53,
     "metadata": {},
     "output_type": "execute_result"
    }
   ],
   "source": [
    "ratings[ratings[\"user_id\"] == 5063].head(1)"
   ]
  },
  {
   "cell_type": "code",
   "execution_count": 54,
   "metadata": {},
   "outputs": [
    {
     "data": {
      "text/plain": [
       "(array([7.533e+03, 0.000e+00, 0.000e+00, 1.000e+00, 2.000e+00, 0.000e+00,\n",
       "        1.000e+00, 2.000e+00, 8.000e+00, 3.000e+00]),\n",
       " array([ 0.,  1.,  2.,  3.,  4.,  5.,  6.,  7.,  8.,  9., 10.]),\n",
       " <BarContainer object of 10 artists>)"
      ]
     },
     "execution_count": 54,
     "metadata": {},
     "output_type": "execute_result"
    },
    {
     "data": {
      "image/png": "[encoded data removed]",
      "text/plain": [
       "<Figure size 640x480 with 1 Axes>"
      ]
     },
     "metadata": {},
     "output_type": "display_data"
    }
   ],
   "source": [
    "plt.hist(ratings[ratings[\"user_id\"] == 75665]['Book-Rating'], bins=10, edgecolor='black', alpha=0.7)"
   ]
  },
  {
   "cell_type": "code",
   "execution_count": 55,
   "metadata": {},
   "outputs": [
    {
     "data": {
      "text/html": [
       "<div>\n",
       "<style scoped>\n",
       "    .dataframe tbody tr th:only-of-type {\n",
       "        vertical-align: middle;\n",
       "    }\n",
       "\n",
       "    .dataframe tbody tr th {\n",
       "        vertical-align: top;\n",
       "    }\n",
       "\n",
       "    .dataframe thead th {\n",
       "        text-align: right;\n",
       "    }\n",
       "</style>\n",
       "<table border=\"1\" class=\"dataframe\">\n",
       "  <thead>\n",
       "    <tr style=\"text-align: right;\">\n",
       "      <th></th>\n",
       "      <th>Book-Rating</th>\n",
       "      <th>Book-Title</th>\n",
       "      <th>Book-Author</th>\n",
       "      <th>Year-Of-Publication</th>\n",
       "      <th>Publisher</th>\n",
       "      <th>Location</th>\n",
       "      <th>Age</th>\n",
       "      <th>user_id</th>\n",
       "      <th>book_id</th>\n",
       "    </tr>\n",
       "  </thead>\n",
       "  <tbody>\n",
       "    <tr>\n",
       "      <th>816071</th>\n",
       "      <td>0</td>\n",
       "      <td>Paddington's Birthday Party</td>\n",
       "      <td>Michael Bond</td>\n",
       "      <td>1942</td>\n",
       "      <td>HarperCollins Publishers</td>\n",
       "      <td>little canada, minnesota, usa</td>\n",
       "      <td>62.0</td>\n",
       "      <td>75665</td>\n",
       "      <td>277627</td>\n",
       "    </tr>\n",
       "  </tbody>\n",
       "</table>\n",
       "</div>"
      ],
      "text/plain": [
       "        Book-Rating                   Book-Title   Book-Author  \\\n",
       "816071            0  Paddington's Birthday Party  Michael Bond   \n",
       "\n",
       "       Year-Of-Publication                 Publisher  \\\n",
       "816071                1942  HarperCollins Publishers   \n",
       "\n",
       "                             Location   Age  user_id  book_id  \n",
       "816071  little canada, minnesota, usa  62.0    75665   277627  "
      ]
     },
     "execution_count": 55,
     "metadata": {},
     "output_type": "execute_result"
    }
   ],
   "source": [
    "ratings[ratings[\"user_id\"] == 75665].head(1)"
   ]
  },
  {
   "cell_type": "code",
   "execution_count": 56,
   "metadata": {},
   "outputs": [
    {
     "data": {
      "text/plain": [
       "Book-Rating\n",
       "0     639906\n",
       "8      76482\n",
       "10     62738\n",
       "7      55752\n",
       "9      52640\n",
       "5      38472\n",
       "6      26522\n",
       "4       6078\n",
       "3       4011\n",
       "2       1881\n",
       "1       1231\n",
       "Name: count, dtype: int64"
      ]
     },
     "execution_count": 56,
     "metadata": {},
     "output_type": "execute_result"
    }
   ],
   "source": [
    "ratings[\"Book-Rating\"].value_counts()"
   ]
  },
  {
   "cell_type": "code",
   "execution_count": 57,
   "metadata": {},
   "outputs": [],
   "source": [
    "ratings[\"Age\"] = ratings[\"Age\"].fillna(-1).astype(int)"
   ]
  },
  {
   "cell_type": "code",
   "execution_count": 58,
   "metadata": {},
   "outputs": [
    {
     "data": {
      "text/plain": [
       "Age\n",
       "-1      236909\n",
       " 0         713\n",
       " 1         387\n",
       " 2         251\n",
       " 3         166\n",
       "         ...  \n",
       " 220        15\n",
       " 228        65\n",
       " 229        11\n",
       " 239       119\n",
       " 244        28\n",
       "Name: count, Length: 113, dtype: int64"
      ]
     },
     "execution_count": 58,
     "metadata": {},
     "output_type": "execute_result"
    }
   ],
   "source": [
    "ratings[\"Age\"].value_counts().sort_index()"
   ]
  },
  {
   "cell_type": "code",
   "execution_count": 59,
   "metadata": {},
   "outputs": [
    {
     "data": {
      "image/png": "[encoded data removed]",
      "text/plain": [
       "<Figure size 640x480 with 1 Axes>"
      ]
     },
     "metadata": {},
     "output_type": "display_data"
    }
   ],
   "source": [
    "plt.hist(ratings[ratings[\"Age\"] != -1][\"Age\"], bins=\"auto\", edgecolor='black', alpha=0.7)\n",
    "plt.show()"
   ]
  },
  {
   "cell_type": "code",
   "execution_count": 60,
   "metadata": {},
   "outputs": [
    {
     "data": {
      "text/plain": [
       "1399"
      ]
     },
     "execution_count": 60,
     "metadata": {},
     "output_type": "execute_result"
    }
   ],
   "source": [
    "ratings[ratings[\"Age\"] > 123].shape[0]"
   ]
  },
  {
   "cell_type": "code",
   "execution_count": 61,
   "metadata": {},
   "outputs": [
    {
     "data": {
      "text/plain": [
       "Book-Rating                0\n",
       "Book-Title             88584\n",
       "Book-Author            88584\n",
       "Year-Of-Publication    88584\n",
       "Publisher              88584\n",
       "Location                   0\n",
       "Age                        0\n",
       "user_id                    0\n",
       "book_id                    0\n",
       "dtype: int64"
      ]
     },
     "execution_count": 61,
     "metadata": {},
     "output_type": "execute_result"
    }
   ],
   "source": [
    "ratings.isna().sum()"
   ]
  },
  {
   "cell_type": "code",
   "execution_count": 62,
   "metadata": {},
   "outputs": [],
   "source": [
    "for n in [\"Book-Title\", \"Book-Author\", \"Publisher\"]:\n",
    "    ratings[n] = ratings[n].fillna(\"\")"
   ]
  },
  {
   "cell_type": "code",
   "execution_count": 63,
   "metadata": {},
   "outputs": [],
   "source": [
    "ratings[\"Year-Of-Publication\"] = ratings[\"Year-Of-Publication\"].fillna(-1)"
   ]
  },
  {
   "cell_type": "code",
   "execution_count": 64,
   "metadata": {},
   "outputs": [
    {
     "data": {
      "text/plain": [
       "Book-Rating            0\n",
       "Book-Title             0\n",
       "Book-Author            0\n",
       "Year-Of-Publication    0\n",
       "Publisher              0\n",
       "Location               0\n",
       "Age                    0\n",
       "user_id                0\n",
       "book_id                0\n",
       "dtype: int64"
      ]
     },
     "execution_count": 64,
     "metadata": {},
     "output_type": "execute_result"
    }
   ],
   "source": [
    "ratings.isna().sum()"
   ]
  },
  {
   "cell_type": "markdown",
   "metadata": {},
   "source": [
    "## Save"
   ]
  },
  {
   "cell_type": "code",
   "execution_count": 65,
   "metadata": {},
   "outputs": [
    {
     "data": {
      "text/html": [
       "<div>\n",
       "<style scoped>\n",
       "    .dataframe tbody tr th:only-of-type {\n",
       "        vertical-align: middle;\n",
       "    }\n",
       "\n",
       "    .dataframe tbody tr th {\n",
       "        vertical-align: top;\n",
       "    }\n",
       "\n",
       "    .dataframe thead th {\n",
       "        text-align: right;\n",
       "    }\n",
       "</style>\n",
       "<table border=\"1\" class=\"dataframe\">\n",
       "  <thead>\n",
       "    <tr style=\"text-align: right;\">\n",
       "      <th></th>\n",
       "      <th>Book-Rating</th>\n",
       "      <th>Book-Title</th>\n",
       "      <th>Book-Author</th>\n",
       "      <th>Year-Of-Publication</th>\n",
       "      <th>Publisher</th>\n",
       "      <th>Location</th>\n",
       "      <th>Age</th>\n",
       "      <th>user_id</th>\n",
       "      <th>book_id</th>\n",
       "    </tr>\n",
       "  </thead>\n",
       "  <tbody>\n",
       "    <tr>\n",
       "      <th>31</th>\n",
       "      <td>0</td>\n",
       "      <td>Southampton Row (Charlotte &amp;amp; Thomas Pitt N...</td>\n",
       "      <td>Anne Perry</td>\n",
       "      <td>2002</td>\n",
       "      <td>Ballantine Books</td>\n",
       "      <td>duisburg, nordrhein-westfalen, germany</td>\n",
       "      <td>25</td>\n",
       "      <td>16</td>\n",
       "      <td>31</td>\n",
       "    </tr>\n",
       "    <tr>\n",
       "      <th>32</th>\n",
       "      <td>0</td>\n",
       "      <td>CLOUT</td>\n",
       "      <td>D. GIBBONS</td>\n",
       "      <td>2024</td>\n",
       "      <td>Avon</td>\n",
       "      <td>duisburg, nordrhein-westfalen, germany</td>\n",
       "      <td>25</td>\n",
       "      <td>16</td>\n",
       "      <td>32</td>\n",
       "    </tr>\n",
       "    <tr>\n",
       "      <th>33</th>\n",
       "      <td>5</td>\n",
       "      <td>See Jane Run</td>\n",
       "      <td>Joy Fielding</td>\n",
       "      <td>1992</td>\n",
       "      <td>Avon</td>\n",
       "      <td>duisburg, nordrhein-westfalen, germany</td>\n",
       "      <td>25</td>\n",
       "      <td>16</td>\n",
       "      <td>33</td>\n",
       "    </tr>\n",
       "    <tr>\n",
       "      <th>34</th>\n",
       "      <td>0</td>\n",
       "      <td>The Dark Half</td>\n",
       "      <td>Stephen King</td>\n",
       "      <td>1994</td>\n",
       "      <td>Signet Book</td>\n",
       "      <td>duisburg, nordrhein-westfalen, germany</td>\n",
       "      <td>25</td>\n",
       "      <td>16</td>\n",
       "      <td>34</td>\n",
       "    </tr>\n",
       "    <tr>\n",
       "      <th>35</th>\n",
       "      <td>0</td>\n",
       "      <td>House of the Sun (Shadowrun)</td>\n",
       "      <td>Fanpro</td>\n",
       "      <td>2003</td>\n",
       "      <td>Fanpro</td>\n",
       "      <td>duisburg, nordrhein-westfalen, germany</td>\n",
       "      <td>25</td>\n",
       "      <td>16</td>\n",
       "      <td>35</td>\n",
       "    </tr>\n",
       "    <tr>\n",
       "      <th>...</th>\n",
       "      <td>...</td>\n",
       "      <td>...</td>\n",
       "      <td>...</td>\n",
       "      <td>...</td>\n",
       "      <td>...</td>\n",
       "      <td>...</td>\n",
       "      <td>...</td>\n",
       "      <td>...</td>\n",
       "      <td>...</td>\n",
       "    </tr>\n",
       "    <tr>\n",
       "      <th>1149771</th>\n",
       "      <td>7</td>\n",
       "      <td>Dreamcatcher</td>\n",
       "      <td>Stephen King</td>\n",
       "      <td>2001</td>\n",
       "      <td>Scribner</td>\n",
       "      <td>cedar park, texas, usa</td>\n",
       "      <td>-1</td>\n",
       "      <td>105278</td>\n",
       "      <td>8851</td>\n",
       "    </tr>\n",
       "    <tr>\n",
       "      <th>1149772</th>\n",
       "      <td>0</td>\n",
       "      <td>All I Really Need to Know</td>\n",
       "      <td>ROBERT FULGHUM</td>\n",
       "      <td>1989</td>\n",
       "      <td>Ivy Books</td>\n",
       "      <td>cedar park, texas, usa</td>\n",
       "      <td>-1</td>\n",
       "      <td>105278</td>\n",
       "      <td>2104</td>\n",
       "    </tr>\n",
       "    <tr>\n",
       "      <th>1149773</th>\n",
       "      <td>5</td>\n",
       "      <td>Perplexing Lateral Thinking Puzzles: Scholasti...</td>\n",
       "      <td>Paul Sloane</td>\n",
       "      <td>1997</td>\n",
       "      <td>Sterling Publishing</td>\n",
       "      <td>cedar park, texas, usa</td>\n",
       "      <td>-1</td>\n",
       "      <td>105278</td>\n",
       "      <td>340554</td>\n",
       "    </tr>\n",
       "    <tr>\n",
       "      <th>1149774</th>\n",
       "      <td>0</td>\n",
       "      <td>Edgar Cayce on the Akashic Records: The Book o...</td>\n",
       "      <td>Kevin J. Todeschi</td>\n",
       "      <td>1998</td>\n",
       "      <td>A.R.E. Press (Association of Research &amp;amp; Enlig</td>\n",
       "      <td>cedar park, texas, usa</td>\n",
       "      <td>-1</td>\n",
       "      <td>105278</td>\n",
       "      <td>284681</td>\n",
       "    </tr>\n",
       "    <tr>\n",
       "      <th>1149775</th>\n",
       "      <td>9</td>\n",
       "      <td>Get Clark Smart : The Ultimate Guide for the S...</td>\n",
       "      <td>Clark Howard</td>\n",
       "      <td>2000</td>\n",
       "      <td>Longstreet Press</td>\n",
       "      <td>cedar park, texas, usa</td>\n",
       "      <td>-1</td>\n",
       "      <td>105278</td>\n",
       "      <td>226347</td>\n",
       "    </tr>\n",
       "  </tbody>\n",
       "</table>\n",
       "<p>965713 rows × 9 columns</p>\n",
       "</div>"
      ],
      "text/plain": [
       "         Book-Rating                                         Book-Title  \\\n",
       "31                 0  Southampton Row (Charlotte &amp; Thomas Pitt N...   \n",
       "32                 0                                              CLOUT   \n",
       "33                 5                                       See Jane Run   \n",
       "34                 0                                      The Dark Half   \n",
       "35                 0                       House of the Sun (Shadowrun)   \n",
       "...              ...                                                ...   \n",
       "1149771            7                                       Dreamcatcher   \n",
       "1149772            0                          All I Really Need to Know   \n",
       "1149773            5  Perplexing Lateral Thinking Puzzles: Scholasti...   \n",
       "1149774            0  Edgar Cayce on the Akashic Records: The Book o...   \n",
       "1149775            9  Get Clark Smart : The Ultimate Guide for the S...   \n",
       "\n",
       "               Book-Author Year-Of-Publication  \\\n",
       "31              Anne Perry                2002   \n",
       "32              D. GIBBONS                2024   \n",
       "33            Joy Fielding                1992   \n",
       "34            Stephen King                1994   \n",
       "35                  Fanpro                2003   \n",
       "...                    ...                 ...   \n",
       "1149771       Stephen King                2001   \n",
       "1149772     ROBERT FULGHUM                1989   \n",
       "1149773        Paul Sloane                1997   \n",
       "1149774  Kevin J. Todeschi                1998   \n",
       "1149775       Clark Howard                2000   \n",
       "\n",
       "                                                 Publisher  \\\n",
       "31                                        Ballantine Books   \n",
       "32                                                    Avon   \n",
       "33                                                    Avon   \n",
       "34                                             Signet Book   \n",
       "35                                                  Fanpro   \n",
       "...                                                    ...   \n",
       "1149771                                           Scribner   \n",
       "1149772                                          Ivy Books   \n",
       "1149773                                Sterling Publishing   \n",
       "1149774  A.R.E. Press (Association of Research &amp; Enlig   \n",
       "1149775                                   Longstreet Press   \n",
       "\n",
       "                                       Location  Age  user_id  book_id  \n",
       "31       duisburg, nordrhein-westfalen, germany   25       16       31  \n",
       "32       duisburg, nordrhein-westfalen, germany   25       16       32  \n",
       "33       duisburg, nordrhein-westfalen, germany   25       16       33  \n",
       "34       duisburg, nordrhein-westfalen, germany   25       16       34  \n",
       "35       duisburg, nordrhein-westfalen, germany   25       16       35  \n",
       "...                                         ...  ...      ...      ...  \n",
       "1149771                  cedar park, texas, usa   -1   105278     8851  \n",
       "1149772                  cedar park, texas, usa   -1   105278     2104  \n",
       "1149773                  cedar park, texas, usa   -1   105278   340554  \n",
       "1149774                  cedar park, texas, usa   -1   105278   284681  \n",
       "1149775                  cedar park, texas, usa   -1   105278   226347  \n",
       "\n",
       "[965713 rows x 9 columns]"
      ]
     },
     "execution_count": 65,
     "metadata": {},
     "output_type": "execute_result"
    }
   ],
   "source": [
    "ratings"
   ]
  },
  {
   "cell_type": "code",
   "execution_count": 66,
   "metadata": {},
   "outputs": [
    {
     "data": {
      "text/plain": [
       "Index(['Book-Rating', 'Book-Title', 'Book-Author', 'Year-Of-Publication',\n",
       "       'Publisher', 'Location', 'Age', 'user_id', 'book_id'],\n",
       "      dtype='object')"
      ]
     },
     "execution_count": 66,
     "metadata": {},
     "output_type": "execute_result"
    }
   ],
   "source": [
    "ratings.columns"
   ]
  },
  {
   "cell_type": "code",
   "execution_count": 67,
   "metadata": {},
   "outputs": [
    {
     "name": "stdout",
     "output_type": "stream",
     "text": [
      "Rows with duplicate book_id and user_id pairs:\n",
      "Empty DataFrame\n",
      "Columns: [Book-Rating, Book-Title, Book-Author, Year-Of-Publication, Publisher, Location, Age, user_id, book_id]\n",
      "Index: []\n"
     ]
    }
   ],
   "source": [
    "duplicate_pairs = ratings.duplicated(subset=['book_id', 'user_id'], keep=False)\n",
    "# duplicate_pairs = ratings.duplicated(subset=['User-ID', 'ISBN'], keep=False)\n",
    "\n",
    "print(\"Rows with duplicate book_id and user_id pairs:\")\n",
    "print(ratings[duplicate_pairs])"
   ]
  },
  {
   "cell_type": "code",
   "execution_count": 68,
   "metadata": {},
   "outputs": [],
   "source": [
    "ratings.to_csv(path_or_buf=new_ds_path)"
   ]
  },
  {
   "cell_type": "markdown",
   "metadata": {},
   "source": [
    "## Notes on final ds\n",
    "- missing Age -> -1\n",
    "- missing Year of publication -> -1\n",
    "- not all ratings have Book data"
   ]
  },
  {
   "cell_type": "markdown",
   "metadata": {},
   "source": []
  }
 ],
 "metadata": {
  "kernelspec": {
   "display_name": "env",
   "language": "python",
   "name": "python3"
  },
  "language_info": {
   "codemirror_mode": {
    "name": "ipython",
    "version": 3
   },
   "file_extension": ".py",
   "mimetype": "text/x-python",
   "name": "python",
   "nbconvert_exporter": "python",
   "pygments_lexer": "ipython3",
   "version": "3.11.5"
  }
 },
 "nbformat": 4,
 "nbformat_minor": 2
}
